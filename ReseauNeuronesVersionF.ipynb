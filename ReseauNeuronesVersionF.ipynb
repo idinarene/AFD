{
 "cells": [
  {
   "cell_type": "code",
   "execution_count": 9,
   "metadata": {},
   "outputs": [],
   "source": [
    "from keras.models import Sequential\n",
    "from keras.layers import Dense\n",
    "from keras.wrappers.scikit_learn import KerasClassifier\n",
    "from sklearn.model_selection import StratifiedKFold\n",
    "from keras.utils import np_utils\n",
    "from sklearn.preprocessing import LabelEncoder\n",
    "import numpy as np\n",
    "import pandas as pd\n",
    "from sklearn.svm import SVC\n",
    "from keras.optimizers import SGD\n",
    "import matplotlib.pyplot as plt\n",
    "from keras import *\n",
    "from sklearn.model_selection import train_test_split\n",
    "from sklearn.preprocessing import StandardScaler\n",
    "from sklearn.decomposition import *\n",
    "from sklearn.metrics import confusion_matrix\n",
    "import seaborn as sns\n",
    "#cross validation\n",
    "from sklearn.model_selection import KFold\n",
    "# fix random seed for reproducibility\n",
    "seed=7\n",
    "np.random.seed(seed)\n",
    "var_w=lambda shape: initializers.RandomUniform(-0.5,0.5)"
   ]
  },
  {
   "cell_type": "code",
   "execution_count": 10,
   "metadata": {},
   "outputs": [],
   "source": [
    "#méthode essai pour cross validation\n",
    "# load pima indians dataset\n",
    "dataset = pd.read_csv(\"/Users/malush/Documents/projet AFD 2018/AFD/train_cap2018.csv\", sep=\",\")\n",
    "# split into input (X) and output (Y) variables\n",
    "scaler = StandardScaler()\n",
    "X=dataset.iloc[:,1:59].astype(float)\n",
    "Y=dataset.iloc[:,59]\n",
    "Y_c=Y"
   ]
  },
  {
   "cell_type": "code",
   "execution_count": 11,
   "metadata": {},
   "outputs": [],
   "source": [
    "#Suppression des NaN\n",
    "w = np.isnan(X)\n",
    "X[w] = 0#X.mean() à changer\n",
    "#Normalisation des données\n",
    "scaler.fit(X)\n",
    "StandardScaler(copy=True, with_mean=True, with_std=True)\n",
    "X = scaler.transform(X)\n",
    "X_c=X\n",
    "X, X_test, Y, Y_test = train_test_split(X, Y,test_size=0.33)"
   ]
  },
  {
   "cell_type": "code",
   "execution_count": 14,
   "metadata": {
    "scrolled": false
   },
   "outputs": [],
   "source": [
    "#Définition du modèle\n",
    "def create_mdl():\n",
    "    #création \n",
    "    model = Sequential()\n",
    "    model.add(Dense(120, input_dim=58,kernel_initializer='normal', activation='relu'))#\n",
    "    model.add(Dense(500, activation='relu'))\n",
    "    model.add(Dense(6,kernel_initializer='normal', activation='softmax'))# a revoir la fct\n",
    "    #compilation \n",
    "    sgd = SGD(lr=0.01)\n",
    "    model.compile(loss='categorical_crossentropy', optimizer=\"adam\", metrics=['categorical_accuracy'])#adamax\n",
    "    return model\n",
    "\n",
    "model=create_mdl()\n",
    "\n",
    "    "
   ]
  },
  {
   "cell_type": "code",
   "execution_count": 15,
   "metadata": {},
   "outputs": [
    {
     "name": "stdout",
     "output_type": "stream",
     "text": [
      "[0 1 1 ... 1 0 0]\n",
      "Epoch 1/100\n",
      "18297/18297 [==============================] - 2s 102us/step - loss: 0.7079 - categorical_accuracy: 0.7277\n",
      "Epoch 2/100\n",
      "18297/18297 [==============================] - 2s 90us/step - loss: 0.5852 - categorical_accuracy: 0.7763\n",
      "Epoch 3/100\n",
      "18297/18297 [==============================] - 2s 89us/step - loss: 0.5473 - categorical_accuracy: 0.7898\n",
      "Epoch 4/100\n",
      "18297/18297 [==============================] - 2s 89us/step - loss: 0.5251 - categorical_accuracy: 0.7982\n",
      "Epoch 5/100\n",
      "18297/18297 [==============================] - 2s 88us/step - loss: 0.5033 - categorical_accuracy: 0.8060\n",
      "Epoch 6/100\n",
      "18297/18297 [==============================] - 2s 93us/step - loss: 0.4867 - categorical_accuracy: 0.8137\n",
      "Epoch 7/100\n",
      "18297/18297 [==============================] - 2s 94us/step - loss: 0.4774 - categorical_accuracy: 0.8148\n",
      "Epoch 8/100\n",
      "18297/18297 [==============================] - 2s 92us/step - loss: 0.4608 - categorical_accuracy: 0.8241\n",
      "Epoch 9/100\n",
      "18297/18297 [==============================] - 2s 95us/step - loss: 0.4507 - categorical_accuracy: 0.8264\n",
      "Epoch 10/100\n",
      "18297/18297 [==============================] - 2s 90us/step - loss: 0.4431 - categorical_accuracy: 0.8284\n",
      "Epoch 11/100\n",
      "18297/18297 [==============================] - 2s 86us/step - loss: 0.4324 - categorical_accuracy: 0.8312\n",
      "Epoch 12/100\n",
      "18297/18297 [==============================] - 2s 86us/step - loss: 0.4242 - categorical_accuracy: 0.8369\n",
      "Epoch 13/100\n",
      "18297/18297 [==============================] - 2s 86us/step - loss: 0.4103 - categorical_accuracy: 0.8395\n",
      "Epoch 14/100\n",
      "18297/18297 [==============================] - 2s 88us/step - loss: 0.4061 - categorical_accuracy: 0.8416\n",
      "Epoch 15/100\n",
      "18297/18297 [==============================] - 2s 86us/step - loss: 0.3962 - categorical_accuracy: 0.8457\n",
      "Epoch 16/100\n",
      "18297/18297 [==============================] - 2s 100us/step - loss: 0.3889 - categorical_accuracy: 0.8490\n",
      "Epoch 17/100\n",
      "18297/18297 [==============================] - 2s 84us/step - loss: 0.3763 - categorical_accuracy: 0.8545\n",
      "Epoch 18/100\n",
      "18297/18297 [==============================] - 2s 87us/step - loss: 0.3701 - categorical_accuracy: 0.8552\n",
      "Epoch 19/100\n",
      "18297/18297 [==============================] - 2s 85us/step - loss: 0.3628 - categorical_accuracy: 0.8617\n",
      "Epoch 20/100\n",
      "18297/18297 [==============================] - 2s 85us/step - loss: 0.3511 - categorical_accuracy: 0.8632\n",
      "Epoch 21/100\n",
      "18297/18297 [==============================] - 2s 85us/step - loss: 0.3482 - categorical_accuracy: 0.8650\n",
      "Epoch 22/100\n",
      "18297/18297 [==============================] - 2s 85us/step - loss: 0.3398 - categorical_accuracy: 0.8690\n",
      "Epoch 23/100\n",
      "18297/18297 [==============================] - 2s 86us/step - loss: 0.3300 - categorical_accuracy: 0.8722\n",
      "Epoch 24/100\n",
      "18297/18297 [==============================] - 2s 85us/step - loss: 0.3200 - categorical_accuracy: 0.8747\n",
      "Epoch 25/100\n",
      "18297/18297 [==============================] - 2s 85us/step - loss: 0.3108 - categorical_accuracy: 0.8786\n",
      "Epoch 26/100\n",
      "18297/18297 [==============================] - 2s 85us/step - loss: 0.3028 - categorical_accuracy: 0.8858\n",
      "Epoch 27/100\n",
      "18297/18297 [==============================] - 2s 85us/step - loss: 0.2950 - categorical_accuracy: 0.8866\n",
      "Epoch 28/100\n",
      "18297/18297 [==============================] - 2s 85us/step - loss: 0.2834 - categorical_accuracy: 0.8922\n",
      "Epoch 29/100\n",
      "18297/18297 [==============================] - 2s 86us/step - loss: 0.2759 - categorical_accuracy: 0.8951\n",
      "Epoch 30/100\n",
      "18297/18297 [==============================] - 2s 87us/step - loss: 0.2644 - categorical_accuracy: 0.8981\n",
      "Epoch 31/100\n",
      "18297/18297 [==============================] - 2s 96us/step - loss: 0.2602 - categorical_accuracy: 0.8991\n",
      "Epoch 32/100\n",
      "18297/18297 [==============================] - 2s 90us/step - loss: 0.2462 - categorical_accuracy: 0.9061\n",
      "Epoch 33/100\n",
      "18297/18297 [==============================] - 2s 87us/step - loss: 0.2389 - categorical_accuracy: 0.9081\n",
      "Epoch 34/100\n",
      "18297/18297 [==============================] - 2s 86us/step - loss: 0.2305 - categorical_accuracy: 0.9123\n",
      "Epoch 35/100\n",
      "18297/18297 [==============================] - 2s 87us/step - loss: 0.2200 - categorical_accuracy: 0.9172\n",
      "Epoch 36/100\n",
      "18297/18297 [==============================] - 2s 87us/step - loss: 0.2170 - categorical_accuracy: 0.9183\n",
      "Epoch 37/100\n",
      "18297/18297 [==============================] - 2s 97us/step - loss: 0.2066 - categorical_accuracy: 0.9210\n",
      "Epoch 38/100\n",
      "18297/18297 [==============================] - 2s 87us/step - loss: 0.1980 - categorical_accuracy: 0.9244\n",
      "Epoch 39/100\n",
      "18297/18297 [==============================] - 2s 105us/step - loss: 0.1916 - categorical_accuracy: 0.9265\n",
      "Epoch 40/100\n",
      "18297/18297 [==============================] - 2s 94us/step - loss: 0.1846 - categorical_accuracy: 0.9307\n",
      "Epoch 41/100\n",
      "18297/18297 [==============================] - 2s 88us/step - loss: 0.1739 - categorical_accuracy: 0.9347\n",
      "Epoch 42/100\n",
      "18297/18297 [==============================] - 2s 89us/step - loss: 0.1740 - categorical_accuracy: 0.9338\n",
      "Epoch 43/100\n",
      "18297/18297 [==============================] - 2s 87us/step - loss: 0.1629 - categorical_accuracy: 0.9382\n",
      "Epoch 44/100\n",
      "18297/18297 [==============================] - 2s 86us/step - loss: 0.1602 - categorical_accuracy: 0.9405\n",
      "Epoch 45/100\n",
      "18297/18297 [==============================] - 2s 87us/step - loss: 0.1479 - categorical_accuracy: 0.9450\n",
      "Epoch 46/100\n",
      "18297/18297 [==============================] - 2s 85us/step - loss: 0.1475 - categorical_accuracy: 0.9461\n",
      "Epoch 47/100\n",
      "18297/18297 [==============================] - 2s 85us/step - loss: 0.1363 - categorical_accuracy: 0.9507\n",
      "Epoch 48/100\n",
      "18297/18297 [==============================] - 2s 85us/step - loss: 0.1322 - categorical_accuracy: 0.9501\n",
      "Epoch 49/100\n",
      "18297/18297 [==============================] - 2s 87us/step - loss: 0.1300 - categorical_accuracy: 0.9517\n",
      "Epoch 50/100\n",
      "18297/18297 [==============================] - 2s 86us/step - loss: 0.1152 - categorical_accuracy: 0.9587\n",
      "Epoch 51/100\n",
      "18297/18297 [==============================] - 2s 86us/step - loss: 0.1281 - categorical_accuracy: 0.9518\n",
      "Epoch 52/100\n",
      "18297/18297 [==============================] - 2s 86us/step - loss: 0.1069 - categorical_accuracy: 0.9614\n",
      "Epoch 53/100\n",
      "18297/18297 [==============================] - 2s 99us/step - loss: 0.0997 - categorical_accuracy: 0.9644\n",
      "Epoch 54/100\n",
      "18297/18297 [==============================] - 2s 86us/step - loss: 0.1107 - categorical_accuracy: 0.9600\n",
      "Epoch 55/100\n",
      "18297/18297 [==============================] - 2s 87us/step - loss: 0.0987 - categorical_accuracy: 0.9644\n",
      "Epoch 56/100\n",
      "18297/18297 [==============================] - 2s 90us/step - loss: 0.0968 - categorical_accuracy: 0.9662\n",
      "Epoch 57/100\n",
      "18297/18297 [==============================] - 2s 85us/step - loss: 0.1015 - categorical_accuracy: 0.9655\n",
      "Epoch 58/100\n",
      "18297/18297 [==============================] - 2s 90us/step - loss: 0.0799 - categorical_accuracy: 0.9721\n",
      "Epoch 59/100\n",
      "18297/18297 [==============================] - 2s 88us/step - loss: 0.0998 - categorical_accuracy: 0.9652\n",
      "Epoch 60/100\n",
      "18297/18297 [==============================] - 2s 85us/step - loss: 0.0768 - categorical_accuracy: 0.9730\n",
      "Epoch 61/100\n",
      "18297/18297 [==============================] - 2s 86us/step - loss: 0.0810 - categorical_accuracy: 0.9716\n",
      "Epoch 62/100\n",
      "18297/18297 [==============================] - 2s 89us/step - loss: 0.0910 - categorical_accuracy: 0.9673\n",
      "Epoch 63/100\n",
      "18297/18297 [==============================] - 2s 102us/step - loss: 0.0781 - categorical_accuracy: 0.9740\n",
      "Epoch 64/100\n",
      "18297/18297 [==============================] - 2s 97us/step - loss: 0.0631 - categorical_accuracy: 0.9788\n",
      "Epoch 65/100\n",
      "18297/18297 [==============================] - 2s 106us/step - loss: 0.0562 - categorical_accuracy: 0.9811\n",
      "Epoch 66/100\n",
      "18297/18297 [==============================] - 2s 102us/step - loss: 0.0812 - categorical_accuracy: 0.9697\n",
      "Epoch 67/100\n",
      "18297/18297 [==============================] - 2s 103us/step - loss: 0.0900 - categorical_accuracy: 0.9680\n",
      "Epoch 68/100\n",
      "18297/18297 [==============================] - 2s 98us/step - loss: 0.0609 - categorical_accuracy: 0.9798\n",
      "Epoch 69/100\n"
     ]
    },
    {
     "name": "stdout",
     "output_type": "stream",
     "text": [
      "18297/18297 [==============================] - 2s 107us/step - loss: 0.0548 - categorical_accuracy: 0.9815\n",
      "Epoch 70/100\n",
      "18297/18297 [==============================] - 2s 107us/step - loss: 0.0630 - categorical_accuracy: 0.9793\n",
      "Epoch 71/100\n",
      "18297/18297 [==============================] - 2s 90us/step - loss: 0.0767 - categorical_accuracy: 0.9749\n",
      "Epoch 72/100\n",
      "18297/18297 [==============================] - 2s 105us/step - loss: 0.0524 - categorical_accuracy: 0.9831\n",
      "Epoch 73/100\n",
      "18297/18297 [==============================] - 2s 96us/step - loss: 0.0580 - categorical_accuracy: 0.9810\n",
      "Epoch 74/100\n",
      "18297/18297 [==============================] - 2s 93us/step - loss: 0.0896 - categorical_accuracy: 0.9678\n",
      "Epoch 75/100\n",
      "18297/18297 [==============================] - 2s 89us/step - loss: 0.0456 - categorical_accuracy: 0.9860 0s - loss: 0.0453 - categorical_ac\n",
      "Epoch 76/100\n",
      "18297/18297 [==============================] - 2s 88us/step - loss: 0.0474 - categorical_accuracy: 0.9853\n",
      "Epoch 77/100\n",
      "18297/18297 [==============================] - 2s 104us/step - loss: 0.0637 - categorical_accuracy: 0.9770\n",
      "Epoch 78/100\n",
      "18297/18297 [==============================] - 2s 92us/step - loss: 0.0492 - categorical_accuracy: 0.9835\n",
      "Epoch 79/100\n",
      "18297/18297 [==============================] - 2s 88us/step - loss: 0.0584 - categorical_accuracy: 0.9808\n",
      "Epoch 80/100\n",
      "18297/18297 [==============================] - 2s 103us/step - loss: 0.0601 - categorical_accuracy: 0.9802\n",
      "Epoch 81/100\n",
      "18297/18297 [==============================] - 2s 94us/step - loss: 0.0560 - categorical_accuracy: 0.9827\n",
      "Epoch 82/100\n",
      "18297/18297 [==============================] - 2s 93us/step - loss: 0.0673 - categorical_accuracy: 0.9774\n",
      "Epoch 83/100\n",
      "18297/18297 [==============================] - 2s 87us/step - loss: 0.0514 - categorical_accuracy: 0.9841\n",
      "Epoch 84/100\n",
      "18297/18297 [==============================] - 2s 101us/step - loss: 0.0379 - categorical_accuracy: 0.9887\n",
      "Epoch 85/100\n",
      "18297/18297 [==============================] - 2s 97us/step - loss: 0.0447 - categorical_accuracy: 0.9853\n",
      "Epoch 86/100\n",
      "18297/18297 [==============================] - 2s 90us/step - loss: 0.0652 - categorical_accuracy: 0.9779\n",
      "Epoch 87/100\n",
      "18297/18297 [==============================] - 2s 100us/step - loss: 0.0353 - categorical_accuracy: 0.9891\n",
      "Epoch 88/100\n",
      "18297/18297 [==============================] - 2s 102us/step - loss: 0.0513 - categorical_accuracy: 0.9826\n",
      "Epoch 89/100\n",
      "18297/18297 [==============================] - 2s 108us/step - loss: 0.0560 - categorical_accuracy: 0.9822\n",
      "Epoch 90/100\n",
      "18297/18297 [==============================] - 2s 110us/step - loss: 0.0348 - categorical_accuracy: 0.9889\n",
      "Epoch 91/100\n",
      "18297/18297 [==============================] - 2s 104us/step - loss: 0.0634 - categorical_accuracy: 0.9804\n",
      "Epoch 92/100\n",
      "18297/18297 [==============================] - 2s 98us/step - loss: 0.0576 - categorical_accuracy: 0.9814\n",
      "Epoch 93/100\n",
      "18297/18297 [==============================] - 2s 93us/step - loss: 0.0367 - categorical_accuracy: 0.9874\n",
      "Epoch 94/100\n",
      "18297/18297 [==============================] - 2s 107us/step - loss: 0.0522 - categorical_accuracy: 0.9812\n",
      "Epoch 95/100\n",
      "18297/18297 [==============================] - 2s 88us/step - loss: 0.0190 - categorical_accuracy: 0.9945\n",
      "Epoch 96/100\n",
      "18297/18297 [==============================] - 2s 99us/step - loss: 0.0670 - categorical_accuracy: 0.9788\n",
      "Epoch 97/100\n",
      "18297/18297 [==============================] - 2s 89us/step - loss: 0.0481 - categorical_accuracy: 0.9834\n",
      "Epoch 98/100\n",
      "18297/18297 [==============================] - 2s 85us/step - loss: 0.0384 - categorical_accuracy: 0.9874\n",
      "Epoch 99/100\n",
      "18297/18297 [==============================] - 2s 85us/step - loss: 0.0257 - categorical_accuracy: 0.9911\n",
      "Epoch 100/100\n",
      "18297/18297 [==============================] - 2s 94us/step - loss: 0.0442 - categorical_accuracy: 0.9850\n"
     ]
    }
   ],
   "source": [
    "#Pour encoder Y\n",
    "encoder = LabelEncoder()\n",
    "encoder.fit(Y)\n",
    "#converti le Y de chaine de caractères à numérique\n",
    "Y_numerique = encoder.transform(Y)\n",
    "print(Y_numerique)\n",
    "# convert integers to dummy variables (i.e. one hot encoded)\n",
    "y_encode_binaire = np_utils.to_categorical(Y_numerique)#6\n",
    "encodert = LabelEncoder()\n",
    "encodert.fit(Y_test)\n",
    "#converti le Y de chaine de caractères à numérique\n",
    "Y_numerique_t = encodert.transform(Y_test)\n",
    "# convert integers to dummy variables (i.e. one hot encoded)\n",
    "y_encode_binaire_t = np_utils.to_categorical(Y_numerique_t)#6\n",
    "historique=model.fit(X, y_encode_binaire, epochs=100, batch_size=30)\n"
   ]
  },
  {
   "cell_type": "code",
   "execution_count": 16,
   "metadata": {},
   "outputs": [
    {
     "name": "stdout",
     "output_type": "stream",
     "text": [
      "dict_keys(['loss', 'categorical_accuracy'])\n"
     ]
    },
    {
     "data": {
      "image/png": "[encoded data removed]",
      "text/plain": [
       "<matplotlib.figure.Figure at 0x10146b898>"
      ]
     },
     "metadata": {},
     "output_type": "display_data"
    },
    {
     "data": {
      "image/png": "[encoded data removed]",
      "text/plain": [
       "<matplotlib.figure.Figure at 0x10b4b3e80>"
      ]
     },
     "metadata": {},
     "output_type": "display_data"
    }
   ],
   "source": [
    "print(historique.history.keys())\n",
    "# summarize history for accuracy\n",
    "plt.plot(historique.history['categorical_accuracy'])\n",
    "plt.title('model accuracy')\n",
    "plt.ylabel('accuracy')\n",
    "plt.xlabel('epoch')\n",
    "plt.legend(['train'], loc='upper left')\n",
    "plt.show()\n",
    "# summarize history for loss\n",
    "plt.plot(historique.history['loss'])\n",
    "plt.title('model loss')\n",
    "plt.ylabel('loss')\n",
    "plt.xlabel('epoch')\n",
    "plt.legend(['train'], loc='upper left')\n",
    "plt.show()"
   ]
  },
  {
   "cell_type": "code",
   "execution_count": 17,
   "metadata": {},
   "outputs": [
    {
     "name": "stdout",
     "output_type": "stream",
     "text": [
      "18297/18297 [==============================] - 1s 30us/step\n",
      "\n",
      "categorical_accuracy: 97.95%\n"
     ]
    }
   ],
   "source": [
    "scores = model.evaluate(X, y_encode_binaire)\n",
    "print(\"\\n%s: %.2f%%\" % (model.metrics_names[1], scores[1]*100))\n",
    "#print(scores)"
   ]
  },
  {
   "cell_type": "code",
   "execution_count": 18,
   "metadata": {},
   "outputs": [
    {
     "name": "stdout",
     "output_type": "stream",
     "text": [
      "(9013,)\n"
     ]
    },
    {
     "name": "stderr",
     "output_type": "stream",
     "text": [
      "/anaconda3/lib/python3.6/site-packages/sklearn/preprocessing/label.py:151: DeprecationWarning: The truth value of an empty array is ambiguous. Returning False, but in future this will result in an error. Use `array.size > 0` to check that an array is not empty.\n",
      "  if diff:\n"
     ]
    },
    {
     "data": {
      "image/png": "[encoded data removed]",
      "text/plain": [
       "<matplotlib.figure.Figure at 0x1a1516d6d8>"
      ]
     },
     "metadata": {},
     "output_type": "display_data"
    }
   ],
   "source": [
    "predictions = model.predict_classes(X_test)\n",
    "classes = encoder.inverse_transform(predictions)\n",
    "\n",
    "print(classes.shape)\n",
    "sns.countplot(classes,label=\"Count\")\n",
    "plt.show()\n"
   ]
  },
  {
   "cell_type": "code",
   "execution_count": 19,
   "metadata": {},
   "outputs": [
    {
     "data": {
      "image/png": "[encoded data removed]",
      "text/plain": [
       "<matplotlib.figure.Figure at 0x1a1228cef0>"
      ]
     },
     "metadata": {},
     "output_type": "display_data"
    },
    {
     "data": {
      "text/plain": [
       "(9013,)"
      ]
     },
     "execution_count": 19,
     "metadata": {},
     "output_type": "execute_result"
    }
   ],
   "source": [
    "sns.countplot(Y_test,label=\"Count\")\n",
    "plt.show()\n",
    "Y_test.shape"
   ]
  },
  {
   "cell_type": "code",
   "execution_count": 21,
   "metadata": {
    "scrolled": false
   },
   "outputs": [
    {
     "data": {
      "image/png": "[encoded data removed]",
      "text/plain": [
       "<matplotlib.figure.Figure at 0x1a1246a550>"
      ]
     },
     "metadata": {},
     "output_type": "display_data"
    },
    {
     "name": "stdout",
     "output_type": "stream",
     "text": [
      "0.20026628203705754\n"
     ]
    }
   ],
   "source": [
    "mat = confusion_matrix(Y_test, classes)\n",
    "fig, ax = plt.subplots(figsize=(6,6))\n",
    "sns.heatmap(mat, annot=True, fmt='d',\n",
    "            xticklabels=['A1','A2','B1','B2','C1','C2'], yticklabels=['A1','A2','B1','B2','C1','C2'])\n",
    "plt.ylabel('Actual')\n",
    "plt.xlabel('Predicted')\n",
    "plt.show()\n",
    "\n",
    "#on calcule l'erreur de prédiction \n",
    "diagonal_sum = mat.trace()\n",
    "sum_of_all_elements = mat.sum()\n",
    "erreur=1-(diagonal_sum/sum_of_all_elements)\n",
    "\n",
    "print(erreur)"
   ]
  },
  {
   "cell_type": "code",
   "execution_count": 167,
   "metadata": {},
   "outputs": [
    {
     "name": "stdout",
     "output_type": "stream",
     "text": [
      "Epoch 1/1\n",
      "24576/24576 [==============================] - 3s 140us/step - loss: 0.2922 - categorical_accuracy: 0.8853\n",
      "Epoch 1/1\n",
      "24578/24578 [==============================] - 3s 141us/step - loss: 0.2800 - categorical_accuracy: 0.8910\n",
      "Epoch 1/1\n",
      "24578/24578 [==============================] - 4s 143us/step - loss: 0.2770 - categorical_accuracy: 0.8910\n",
      "Epoch 1/1\n",
      "24579/24579 [==============================] - 3s 142us/step - loss: 0.2714 - categorical_accuracy: 0.8944\n",
      "Epoch 1/1\n",
      "24579/24579 [==============================] - 4s 143us/step - loss: 0.2607 - categorical_accuracy: 0.8994\n",
      "Epoch 1/1\n",
      "24579/24579 [==============================] - 4s 143us/step - loss: 0.2526 - categorical_accuracy: 0.9025\n",
      "Epoch 1/1\n",
      "24579/24579 [==============================] - 4s 150us/step - loss: 0.2479 - categorical_accuracy: 0.9031\n",
      "Epoch 1/1\n",
      "24580/24580 [==============================] - 4s 145us/step - loss: 0.2367 - categorical_accuracy: 0.9083\n",
      "Epoch 1/1\n",
      "24581/24581 [==============================] - 3s 130us/step - loss: 0.2303 - categorical_accuracy: 0.9109\n",
      "Epoch 1/1\n",
      "24581/24581 [==============================] - 3s 132us/step - loss: 0.2219 - categorical_accuracy: 0.9152\n"
     ]
    }
   ],
   "source": [
    "#Cross validation algorithm \n",
    "kfold = StratifiedKFold(n_splits=10, shuffle=True, random_state=seed)\n",
    "for train_index, test_index in kfold.split(X_c, Y_c): \n",
    "    X_train, X_test = X_c[train_index], X_c[test_index]\n",
    "    y_train, y_test = Y_c[train_index], Y_c[test_index]\n",
    "    encoder = LabelEncoder()\n",
    "    encoder.fit(y_train)\n",
    "    Y_numerique = encoder.transform(y_train)\n",
    "    y_encode_binaire = np_utils.to_categorical(Y_numerique)#6\n",
    "    #test data\n",
    "    encodert = LabelEncoder()\n",
    "    encodert.fit(y_test)\n",
    "    #converti le Y de chaine de caractères à numérique\n",
    "    Y_numerique_t = encodert.transform(y_test)\n",
    "    # convert integers to dummy variables (i.e. one hot encoded)\n",
    "    y_encode_binaire_t = np_utils.to_categorical(Y_numerique_t)#6\n",
    "    history=model.fit(X_train, y_encode_binaire, epochs=1, batch_size=30)\n",
    "    "
   ]
  },
  {
   "cell_type": "code",
   "execution_count": 165,
   "metadata": {},
   "outputs": [
    {
     "name": "stdout",
     "output_type": "stream",
     "text": [
      "dict_keys(['loss', 'categorical_accuracy'])\n"
     ]
    },
    {
     "data": {
      "image/png": "[encoded data removed]",
      "text/plain": [
       "<matplotlib.figure.Figure at 0x231ee9df710>"
      ]
     },
     "metadata": {},
     "output_type": "display_data"
    },
    {
     "data": {
      "image/png": "[encoded data removed]",
      "text/plain": [
       "<matplotlib.figure.Figure at 0x231f34e13c8>"
      ]
     },
     "metadata": {},
     "output_type": "display_data"
    }
   ],
   "source": [
    "print(history.history.keys())\n",
    "# summarize history for accuracy\n",
    "plt.plot(history.history['categorical_accuracy'])\n",
    "plt.title('model accuracy')\n",
    "plt.ylabel('accuracy')\n",
    "plt.xlabel('epoch')\n",
    "plt.legend(['train'], loc='upper left')\n",
    "plt.show()\n",
    "\n",
    "# summarize history for loss\n",
    "plt.plot(history.history['loss'])\n",
    "plt.title('model loss')\n",
    "plt.ylabel('loss')\n",
    "plt.xlabel('epoch')\n",
    "plt.legend(['train'], loc='upper left')\n",
    "plt.show()"
   ]
  },
  {
   "cell_type": "code",
   "execution_count": null,
   "metadata": {
    "collapsed": true
   },
   "outputs": [],
   "source": []
  }
 ],
 "metadata": {
  "kernelspec": {
   "display_name": "Python 3",
   "language": "python",
   "name": "python3"
  },
  "language_info": {
   "codemirror_mode": {
    "name": "ipython",
    "version": 3
   },
   "file_extension": ".py",
   "mimetype": "text/x-python",
   "name": "python",
   "nbconvert_exporter": "python",
   "pygments_lexer": "ipython3",
   "version": "3.6.4"
  }
 },
 "nbformat": 4,
 "nbformat_minor": 2
}
