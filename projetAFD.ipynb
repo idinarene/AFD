{
 "cells": [
  {
   "cell_type": "code",
   "execution_count": 54,
   "metadata": {},
   "outputs": [],
   "source": [
    "from keras.models import Sequential\n",
    "from keras.layers import Dense\n",
    "from keras.utils import np_utils\n",
    "from sklearn.preprocessing import LabelEncoder\n",
    "import numpy as np\n",
    "import pandas as pd\n",
    "from keras.optimizers import SGD\n",
    "from keras import *\n",
    "from sklearn.model_selection import train_test_split\n",
    "from sklearn.preprocessing import StandardScaler\n",
    "# fix random seed for reproducibility\n",
    "np.random.seed(7)\n",
    "var_w=lambda shape: initializers.RandomUniform(-0.5,0.5)"
   ]
  },
  {
   "cell_type": "code",
   "execution_count": 58,
   "metadata": {},
   "outputs": [],
   "source": [
    "# load pima indians dataset\n",
    "dataset = pd.read_csv(\"/Users/malush/Desktop/projet AFD 2018/train_cap2018.csv\", sep=\",\")\n",
    "# split into input (X) and output (Y) variables\n",
    "scaler = StandardScaler()\n",
    "X=dataset.iloc[:,1:59].astype(float)\n",
    "Y=dataset.iloc[:,59]\n",
    "\n",
    "\n",
    "X, X_test, Y, Y_test = train_test_split(X, Y)\n",
    "w = np.isnan(X)\n",
    "X[w] = 0#X.mean() à changer\n",
    "w2= np.isnan(X_test)\n",
    "X_test[w2] = 0\n",
    "\n",
    "#Normalisation \n",
    "\n",
    "scaler.fit(X)\n",
    "StandardScaler(copy=True, with_mean=True, with_std=True)\n",
    "\n",
    "# Now apply the transformations to the data:\n",
    "X = scaler.transform(X)\n",
    "X_test = scaler.transform(X_test)\n",
    "\n",
    "\n"
   ]
  },
  {
   "cell_type": "code",
   "execution_count": 59,
   "metadata": {},
   "outputs": [
    {
     "data": {
      "text/plain": [
       "(20482,)"
      ]
     },
     "execution_count": 59,
     "metadata": {},
     "output_type": "execute_result"
    }
   ],
   "source": [
    "Y.shape"
   ]
  },
  {
   "cell_type": "code",
   "execution_count": 60,
   "metadata": {},
   "outputs": [
    {
     "name": "stdout",
     "output_type": "stream",
     "text": [
      "[1 0 1 ... 1 0 1]\n",
      "[[0. 1. 0. 0. 0. 0.]\n",
      " [1. 0. 0. 0. 0. 0.]\n",
      " [0. 1. 0. 0. 0. 0.]\n",
      " ...\n",
      " [0. 1. 0. 0. 0. 0.]\n",
      " [1. 0. 0. 0. 0. 0.]\n",
      " [0. 1. 0. 0. 0. 0.]]\n"
     ]
    }
   ],
   "source": [
    "#Pour encoder Y\n",
    "encoder = LabelEncoder()\n",
    "encoder.fit(Y)\n",
    "#converti le Y de chaine de caractères à numérique\n",
    "Y_numerique = encoder.transform(Y)\n",
    "\n",
    "print(Y_numerique)\n",
    "# convert integers to dummy variables (i.e. one hot encoded)\n",
    "y_encode_binaire = np_utils.to_categorical(Y_numerique)#6\n",
    "\n",
    "print(y_encode_binaire)"
   ]
  },
  {
   "cell_type": "code",
   "execution_count": 61,
   "metadata": {},
   "outputs": [
    {
     "name": "stdout",
     "output_type": "stream",
     "text": [
      "[[0. 1. 0. 0. 0. 0.]\n",
      " [1. 0. 0. 0. 0. 0.]\n",
      " [0. 1. 0. 0. 0. 0.]\n",
      " ...\n",
      " [0. 1. 0. 0. 0. 0.]\n",
      " [1. 0. 0. 0. 0. 0.]\n",
      " [0. 1. 0. 0. 0. 0.]]\n"
     ]
    }
   ],
   "source": [
    "print(y_encode_binaire)"
   ]
  },
  {
   "cell_type": "code",
   "execution_count": 62,
   "metadata": {},
   "outputs": [
    {
     "data": {
      "text/plain": [
       "array([[-0.0490142 ,  0.22494019, -0.15309796, ..., -1.41973269,\n",
       "        -0.7780132 ,  1.85708806],\n",
       "       [-0.32998505, -0.4700053 , -0.31685252, ...,  0.55580086,\n",
       "         0.07681255, -0.81828322],\n",
       "       [ 0.79389835,  0.05719473, -0.10943008, ..., -0.43196591,\n",
       "        -0.38054168, -0.21750676],\n",
       "       ...,\n",
       "       [ 0.23195665,  0.00926745,  0.05432448, ...,  1.34601429,\n",
       "         1.88077931, -1.26062445],\n",
       "       [-1.45386845, -1.21287807, -1.15200076, ...,  0.65457754,\n",
       "        -0.73310116,  1.04636949],\n",
       "       [ 1.0748692 ,  0.105122  ,  0.42004299, ..., -0.62951927,\n",
       "        -0.46437748, -0.33988715]])"
      ]
     },
     "execution_count": 62,
     "metadata": {},
     "output_type": "execute_result"
    }
   ],
   "source": [
    "X #exemple X\n"
   ]
  },
  {
   "cell_type": "code",
   "execution_count": 66,
   "metadata": {},
   "outputs": [],
   "source": [
    "\n",
    "# create model\n",
    "model = Sequential()\n",
    "model.add(Dense(50, input_dim=58,kernel_initializer='normal', activation='relu'))#\n",
    "\n",
    "model.add(Dense(500, activation='relu'))\n",
    "model.add(Dense(6,kernel_initializer='normal', activation='softmax'))# a revoir la fct\n"
   ]
  },
  {
   "cell_type": "code",
   "execution_count": 69,
   "metadata": {},
   "outputs": [],
   "source": [
    "\n",
    "# Compile model\n",
    "sgd = SGD(lr=0.01)\n",
    "model.compile(loss='categorical_crossentropy', optimizer=sgd, metrics=['accuracy'])#adamax"
   ]
  },
  {
   "cell_type": "code",
   "execution_count": 70,
   "metadata": {},
   "outputs": [
    {
     "name": "stdout",
     "output_type": "stream",
     "text": [
      "Epoch 1/100\n",
      "20482/20482 [==============================] - 1s 69us/step - loss: 0.2026 - acc: 0.9287\n",
      "Epoch 2/100\n",
      "20482/20482 [==============================] - 1s 58us/step - loss: 0.1979 - acc: 0.9303\n",
      "Epoch 3/100\n",
      "20482/20482 [==============================] - 1s 57us/step - loss: 0.1942 - acc: 0.9305\n",
      "Epoch 4/100\n",
      "20482/20482 [==============================] - 1s 57us/step - loss: 0.1904 - acc: 0.9326\n",
      "Epoch 5/100\n",
      "20482/20482 [==============================] - 1s 58us/step - loss: 0.1889 - acc: 0.9339\n",
      "Epoch 6/100\n",
      "20482/20482 [==============================] - 1s 57us/step - loss: 0.1891 - acc: 0.9346\n",
      "Epoch 7/100\n",
      "20482/20482 [==============================] - 1s 58us/step - loss: 0.1848 - acc: 0.9354\n",
      "Epoch 8/100\n",
      "20482/20482 [==============================] - 1s 59us/step - loss: 0.1849 - acc: 0.9339\n",
      "Epoch 9/100\n",
      "20482/20482 [==============================] - 1s 58us/step - loss: 0.1825 - acc: 0.9385\n",
      "Epoch 10/100\n",
      "20482/20482 [==============================] - 1s 57us/step - loss: 0.1817 - acc: 0.9359\n",
      "Epoch 11/100\n",
      "20482/20482 [==============================] - 1s 59us/step - loss: 0.1815 - acc: 0.9369\n",
      "Epoch 12/100\n",
      "20482/20482 [==============================] - 1s 58us/step - loss: 0.1798 - acc: 0.9364\n",
      "Epoch 13/100\n",
      "20482/20482 [==============================] - 1s 58us/step - loss: 0.1788 - acc: 0.9374\n",
      "Epoch 14/100\n",
      "20482/20482 [==============================] - 1s 58us/step - loss: 0.1778 - acc: 0.9380\n",
      "Epoch 15/100\n",
      "20482/20482 [==============================] - 1s 58us/step - loss: 0.1765 - acc: 0.9395\n",
      "Epoch 16/100\n",
      "20482/20482 [==============================] - 1s 58us/step - loss: 0.1765 - acc: 0.9387\n",
      "Epoch 17/100\n",
      "20482/20482 [==============================] - 1s 62us/step - loss: 0.1746 - acc: 0.9393\n",
      "Epoch 18/100\n",
      "20482/20482 [==============================] - 1s 71us/step - loss: 0.1761 - acc: 0.9393\n",
      "Epoch 19/100\n",
      "20482/20482 [==============================] - 1s 59us/step - loss: 0.1722 - acc: 0.9405\n",
      "Epoch 20/100\n",
      "20482/20482 [==============================] - 1s 60us/step - loss: 0.1722 - acc: 0.9403\n",
      "Epoch 21/100\n",
      "20482/20482 [==============================] - 1s 65us/step - loss: 0.1692 - acc: 0.9419\n",
      "Epoch 22/100\n",
      "20482/20482 [==============================] - 1s 62us/step - loss: 0.1703 - acc: 0.9410\n",
      "Epoch 23/100\n",
      "20482/20482 [==============================] - 1s 57us/step - loss: 0.1705 - acc: 0.9413\n",
      "Epoch 24/100\n",
      "20482/20482 [==============================] - 1s 58us/step - loss: 0.1663 - acc: 0.9425\n",
      "Epoch 25/100\n",
      "20482/20482 [==============================] - 1s 61us/step - loss: 0.1756 - acc: 0.9394\n",
      "Epoch 26/100\n",
      "20482/20482 [==============================] - 1s 58us/step - loss: 0.1648 - acc: 0.9440\n",
      "Epoch 27/100\n",
      "20482/20482 [==============================] - 1s 59us/step - loss: 0.1633 - acc: 0.9445\n",
      "Epoch 28/100\n",
      "20482/20482 [==============================] - 1s 58us/step - loss: 0.1642 - acc: 0.9437\n",
      "Epoch 29/100\n",
      "20482/20482 [==============================] - 1s 59us/step - loss: 0.1614 - acc: 0.9446\n",
      "Epoch 30/100\n",
      "20482/20482 [==============================] - 1s 62us/step - loss: 0.1673 - acc: 0.9428\n",
      "Epoch 31/100\n",
      "20482/20482 [==============================] - 1s 62us/step - loss: 0.1595 - acc: 0.9470\n",
      "Epoch 32/100\n",
      "20482/20482 [==============================] - 1s 58us/step - loss: 0.1588 - acc: 0.9471\n",
      "Epoch 33/100\n",
      "20482/20482 [==============================] - 1s 60us/step - loss: 0.1591 - acc: 0.9465\n",
      "Epoch 34/100\n",
      "20482/20482 [==============================] - 1s 59us/step - loss: 0.1574 - acc: 0.9447\n",
      "Epoch 35/100\n",
      "20482/20482 [==============================] - 1s 59us/step - loss: 0.1558 - acc: 0.9464\n",
      "Epoch 36/100\n",
      "20482/20482 [==============================] - 1s 58us/step - loss: 0.1556 - acc: 0.9469\n",
      "Epoch 37/100\n",
      "20482/20482 [==============================] - 1s 59us/step - loss: 0.1643 - acc: 0.9430\n",
      "Epoch 38/100\n",
      "20482/20482 [==============================] - 1s 60us/step - loss: 0.1562 - acc: 0.9466\n",
      "Epoch 39/100\n",
      "20482/20482 [==============================] - 1s 62us/step - loss: 0.1534 - acc: 0.9480\n",
      "Epoch 40/100\n",
      "20482/20482 [==============================] - 1s 59us/step - loss: 0.1523 - acc: 0.9501\n",
      "Epoch 41/100\n",
      "20482/20482 [==============================] - 1s 60us/step - loss: 0.1519 - acc: 0.9502\n",
      "Epoch 42/100\n",
      "20482/20482 [==============================] - 1s 62us/step - loss: 0.1505 - acc: 0.9496\n",
      "Epoch 43/100\n",
      "20482/20482 [==============================] - 1s 60us/step - loss: 0.1523 - acc: 0.9483\n",
      "Epoch 44/100\n",
      "20482/20482 [==============================] - 1s 60us/step - loss: 0.1519 - acc: 0.9495\n",
      "Epoch 45/100\n",
      "20482/20482 [==============================] - 1s 59us/step - loss: 0.1554 - acc: 0.9457\n",
      "Epoch 46/100\n",
      "20482/20482 [==============================] - 1s 63us/step - loss: 0.1481 - acc: 0.9508\n",
      "Epoch 47/100\n",
      "20482/20482 [==============================] - 1s 59us/step - loss: 0.1451 - acc: 0.9516\n",
      "Epoch 48/100\n",
      "20482/20482 [==============================] - 1s 59us/step - loss: 0.1434 - acc: 0.9533\n",
      "Epoch 49/100\n",
      "20482/20482 [==============================] - 1s 60us/step - loss: 0.1433 - acc: 0.9519\n",
      "Epoch 50/100\n",
      "20482/20482 [==============================] - 1s 64us/step - loss: 0.1429 - acc: 0.9530\n",
      "Epoch 51/100\n",
      "20482/20482 [==============================] - 1s 61us/step - loss: 0.1444 - acc: 0.9528\n",
      "Epoch 52/100\n",
      "20482/20482 [==============================] - 1s 59us/step - loss: 0.1423 - acc: 0.9534\n",
      "Epoch 53/100\n",
      "20482/20482 [==============================] - 1s 60us/step - loss: 0.1399 - acc: 0.9539\n",
      "Epoch 54/100\n",
      "20482/20482 [==============================] - 1s 57us/step - loss: 0.1403 - acc: 0.9547\n",
      "Epoch 55/100\n",
      "20482/20482 [==============================] - 1s 57us/step - loss: 0.1383 - acc: 0.9554\n",
      "Epoch 56/100\n",
      "20482/20482 [==============================] - 1s 57us/step - loss: 0.1379 - acc: 0.9545\n",
      "Epoch 57/100\n",
      "20482/20482 [==============================] - 1s 57us/step - loss: 0.1371 - acc: 0.9550\n",
      "Epoch 58/100\n",
      "20482/20482 [==============================] - 1s 58us/step - loss: 0.1361 - acc: 0.9556\n",
      "Epoch 59/100\n",
      "20482/20482 [==============================] - 1s 56us/step - loss: 0.1354 - acc: 0.9571\n",
      "Epoch 60/100\n",
      "20482/20482 [==============================] - 1s 57us/step - loss: 0.1350 - acc: 0.9557\n",
      "Epoch 61/100\n",
      "20482/20482 [==============================] - 1s 55us/step - loss: 0.1342 - acc: 0.9565\n",
      "Epoch 62/100\n",
      "20482/20482 [==============================] - 1s 57us/step - loss: 0.1333 - acc: 0.9560\n",
      "Epoch 63/100\n",
      "20482/20482 [==============================] - 1s 58us/step - loss: 0.1319 - acc: 0.9566\n",
      "Epoch 64/100\n",
      "20482/20482 [==============================] - 1s 58us/step - loss: 0.1322 - acc: 0.9564\n",
      "Epoch 65/100\n",
      "20482/20482 [==============================] - 1s 56us/step - loss: 0.1296 - acc: 0.9583\n",
      "Epoch 66/100\n",
      "20482/20482 [==============================] - 1s 58us/step - loss: 0.1316 - acc: 0.9567\n",
      "Epoch 67/100\n",
      "20482/20482 [==============================] - 1s 61us/step - loss: 0.1296 - acc: 0.9575\n",
      "Epoch 68/100\n",
      "20482/20482 [==============================] - 1s 56us/step - loss: 0.1294 - acc: 0.9592\n",
      "Epoch 69/100\n",
      "20482/20482 [==============================] - 1s 57us/step - loss: 0.1273 - acc: 0.9593\n",
      "Epoch 70/100\n",
      "20482/20482 [==============================] - 1s 57us/step - loss: 0.1263 - acc: 0.9596\n",
      "Epoch 71/100\n",
      "20482/20482 [==============================] - 1s 59us/step - loss: 0.1253 - acc: 0.9599\n",
      "Epoch 72/100\n",
      "20482/20482 [==============================] - 1s 57us/step - loss: 0.1250 - acc: 0.9598\n",
      "Epoch 73/100\n",
      "20482/20482 [==============================] - 1s 58us/step - loss: 0.1250 - acc: 0.9594\n",
      "Epoch 74/100\n",
      "20482/20482 [==============================] - 1s 57us/step - loss: 0.1243 - acc: 0.9605\n",
      "Epoch 75/100\n",
      "20482/20482 [==============================] - 1s 59us/step - loss: 0.1239 - acc: 0.9611\n",
      "Epoch 76/100\n",
      "20482/20482 [==============================] - 1s 60us/step - loss: 0.1213 - acc: 0.9623\n",
      "Epoch 77/100\n",
      "20482/20482 [==============================] - 1s 57us/step - loss: 0.1205 - acc: 0.9630\n",
      "Epoch 78/100\n",
      "20482/20482 [==============================] - 1s 56us/step - loss: 0.1218 - acc: 0.9615\n",
      "Epoch 79/100\n",
      "20482/20482 [==============================] - 1s 58us/step - loss: 0.1206 - acc: 0.9616\n",
      "Epoch 80/100\n",
      "20482/20482 [==============================] - 1s 57us/step - loss: 0.1207 - acc: 0.9614\n",
      "Epoch 81/100\n"
     ]
    },
    {
     "name": "stdout",
     "output_type": "stream",
     "text": [
      "20482/20482 [==============================] - 1s 56us/step - loss: 0.1177 - acc: 0.9643\n",
      "Epoch 82/100\n",
      "20482/20482 [==============================] - 1s 55us/step - loss: 0.1170 - acc: 0.9636\n",
      "Epoch 83/100\n",
      "20482/20482 [==============================] - 1s 55us/step - loss: 0.1176 - acc: 0.9627\n",
      "Epoch 84/100\n",
      "20482/20482 [==============================] - 1s 55us/step - loss: 0.1163 - acc: 0.9645\n",
      "Epoch 85/100\n",
      "20482/20482 [==============================] - 1s 57us/step - loss: 0.1183 - acc: 0.9631\n",
      "Epoch 86/100\n",
      "20482/20482 [==============================] - 1s 57us/step - loss: 0.1149 - acc: 0.9638\n",
      "Epoch 87/100\n",
      "20482/20482 [==============================] - 1s 57us/step - loss: 0.1135 - acc: 0.9648\n",
      "Epoch 88/100\n",
      "20482/20482 [==============================] - 1s 55us/step - loss: 0.1129 - acc: 0.9649\n",
      "Epoch 89/100\n",
      "20482/20482 [==============================] - 1s 57us/step - loss: 0.1109 - acc: 0.9659\n",
      "Epoch 90/100\n",
      "20482/20482 [==============================] - 1s 56us/step - loss: 0.1124 - acc: 0.9656\n",
      "Epoch 91/100\n",
      "20482/20482 [==============================] - 1s 57us/step - loss: 0.1116 - acc: 0.9657\n",
      "Epoch 92/100\n",
      "20482/20482 [==============================] - 1s 56us/step - loss: 0.1100 - acc: 0.9668\n",
      "Epoch 93/100\n",
      "20482/20482 [==============================] - 1s 59us/step - loss: 0.1099 - acc: 0.9668\n",
      "Epoch 94/100\n",
      "20482/20482 [==============================] - 1s 57us/step - loss: 0.1099 - acc: 0.9666\n",
      "Epoch 95/100\n",
      "20482/20482 [==============================] - 1s 57us/step - loss: 0.1085 - acc: 0.9685\n",
      "Epoch 96/100\n",
      "20482/20482 [==============================] - 1s 55us/step - loss: 0.1088 - acc: 0.9672\n",
      "Epoch 97/100\n",
      "20482/20482 [==============================] - 1s 56us/step - loss: 0.1071 - acc: 0.9680\n",
      "Epoch 98/100\n",
      "20482/20482 [==============================] - 1s 57us/step - loss: 0.1059 - acc: 0.9695\n",
      "Epoch 99/100\n",
      "20482/20482 [==============================] - 1s 56us/step - loss: 0.1050 - acc: 0.9685\n",
      "Epoch 100/100\n",
      "20482/20482 [==============================] - 1s 56us/step - loss: 0.1058 - acc: 0.9673\n"
     ]
    },
    {
     "data": {
      "text/plain": [
       "<keras.callbacks.History at 0x1a1c148f60>"
      ]
     },
     "execution_count": 70,
     "metadata": {},
     "output_type": "execute_result"
    }
   ],
   "source": [
    "# Fit the model\n",
    "model.fit(X, y_encode_binaire, epochs=100, batch_size=32)"
   ]
  },
  {
   "cell_type": "code",
   "execution_count": 72,
   "metadata": {},
   "outputs": [
    {
     "name": "stdout",
     "output_type": "stream",
     "text": [
      "20482/20482 [==============================] - 1s 31us/step\n",
      "\n",
      "acc: 96.27%\n"
     ]
    }
   ],
   "source": [
    "scores = model.evaluate(X, y_encode_binaire)\n",
    "print(\"\\n%s: %.2f%%\" % (model.metrics_names[1], scores[1]*100))\n",
    "#print(scores)"
   ]
  },
  {
   "cell_type": "code",
   "execution_count": 74,
   "metadata": {},
   "outputs": [
    {
     "name": "stderr",
     "output_type": "stream",
     "text": [
      "/anaconda3/lib/python3.6/site-packages/sklearn/preprocessing/label.py:151: DeprecationWarning: The truth value of an empty array is ambiguous. Returning False, but in future this will result in an error. Use `array.size > 0` to check that an array is not empty.\n",
      "  if diff:\n"
     ]
    },
    {
     "name": "stdout",
     "output_type": "stream",
     "text": [
      "(6828,)\n"
     ]
    },
    {
     "data": {
      "image/png": "[encoded data removed]",
      "text/plain": [
       "<matplotlib.figure.Figure at 0x1a1eb0b6a0>"
      ]
     },
     "metadata": {},
     "output_type": "display_data"
    }
   ],
   "source": [
    "predictions = model.predict_classes(X_test)\n",
    "classes = encoder.inverse_transform(predictions)\n",
    "\n",
    "\n",
    "import seaborn as sns\n",
    "import matplotlib.pyplot as plt\n",
    "\n",
    "print(classes.shape)\n",
    "sns.countplot(classes,label=\"Count\")\n",
    "plt.show()\n"
   ]
  },
  {
   "cell_type": "code",
   "execution_count": 78,
   "metadata": {},
   "outputs": [
    {
     "data": {
      "image/png": "[encoded data removed]",
      "text/plain": [
       "<matplotlib.figure.Figure at 0x1a1eb64eb8>"
      ]
     },
     "metadata": {},
     "output_type": "display_data"
    },
    {
     "data": {
      "text/plain": [
       "(6828,)"
      ]
     },
     "execution_count": 78,
     "metadata": {},
     "output_type": "execute_result"
    }
   ],
   "source": [
    "sns.countplot(Y_test,label=\"Count\")\n",
    "plt.show()\n",
    "Y_test.shape"
   ]
  },
  {
   "cell_type": "code",
   "execution_count": null,
   "metadata": {},
   "outputs": [],
   "source": []
  },
  {
   "cell_type": "code",
   "execution_count": null,
   "metadata": {},
   "outputs": [],
   "source": []
  }
 ],
 "metadata": {
  "kernelspec": {
   "display_name": "Python 3",
   "language": "python",
   "name": "python3"
  },
  "language_info": {
   "codemirror_mode": {
    "name": "ipython",
    "version": 3
   },
   "file_extension": ".py",
   "mimetype": "text/x-python",
   "name": "python",
   "nbconvert_exporter": "python",
   "pygments_lexer": "ipython3",
   "version": "3.6.4"
  }
 },
 "nbformat": 4,
 "nbformat_minor": 2
}
