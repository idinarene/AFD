{
 "cells": [
  {
   "cell_type": "code",
   "execution_count": 59,
   "metadata": {},
   "outputs": [],
   "source": [
    "from keras.models import Sequential\n",
    "from keras.layers import Dense\n",
    "from keras.utils import np_utils\n",
    "from sklearn.preprocessing import LabelEncoder\n",
    "import numpy as np\n",
    "import pandas as pd\n",
    "from keras.optimizers import SGD\n",
    "from keras import *\n",
    "from sklearn.datasets.samples_generator import make_blobs\n",
    "from sklearn.datasets.samples_generator import make_circles\n",
    "from sklearn.datasets.samples_generator import make_moons\n",
    "from sklearn.datasets.samples_generator import make_s_curve\n",
    "from sklearn.model_selection import train_test_split\n",
    "from sklearn.preprocessing import StandardScaler\n",
    "from sklearn.discriminant_analysis import LinearDiscriminantAnalysis\n",
    "import matplotlib.pyplot as plt\n",
    "from sklearn.cluster import KMeans\n",
    "from sklearn import metrics\n",
    "# fix random seed for reproducibility\n",
    "np.random.seed(7)\n",
    "var_w=lambda shape: initializers.RandomUniform(-0.5,0.5)"
   ]
  },
  {
   "cell_type": "code",
   "execution_count": 22,
   "metadata": {},
   "outputs": [],
   "source": [
    "# load pima indians dataset\n",
    "dataset = pd.read_csv(\"/Users/malush/Documents/projet AFD 2018/AFD/train_cap2018.csv\", sep=\",\")\n",
    "# split into input (X) and output (Y) variables\n",
    "scaler = StandardScaler()\n",
    "X=dataset.iloc[:,1:59].astype(float)\n",
    "Y=dataset.iloc[:,59]\n",
    "\n",
    "\n",
    "X, X_test, Y, Y_test = train_test_split(X, Y)\n",
    "w = np.isnan(X)\n",
    "X[w] = 0#X.mean() à changer\n",
    "w2= np.isnan(X_test)\n",
    "X_test[w2] = 0\n",
    "\n",
    "#Normalisation \n",
    "\n",
    "scaler.fit(X)\n",
    "StandardScaler(copy=True, with_mean=True, with_std=True)\n",
    "\n",
    "# Now apply the transformations to the data:\n",
    "X = scaler.transform(X)\n",
    "X_test = scaler.transform(X_test)\n",
    "\n",
    "\n"
   ]
  },
  {
   "cell_type": "code",
   "execution_count": 23,
   "metadata": {},
   "outputs": [
    {
     "data": {
      "text/plain": [
       "(20482,)"
      ]
     },
     "execution_count": 23,
     "metadata": {},
     "output_type": "execute_result"
    }
   ],
   "source": [
    "Y.shape"
   ]
  },
  {
   "cell_type": "code",
   "execution_count": 24,
   "metadata": {},
   "outputs": [
    {
     "name": "stdout",
     "output_type": "stream",
     "text": [
      "[2 2 0 ... 1 0 0]\n",
      "[[0. 0. 1. 0. 0. 0.]\n",
      " [0. 0. 1. 0. 0. 0.]\n",
      " [1. 0. 0. 0. 0. 0.]\n",
      " ...\n",
      " [0. 1. 0. 0. 0. 0.]\n",
      " [1. 0. 0. 0. 0. 0.]\n",
      " [1. 0. 0. 0. 0. 0.]]\n"
     ]
    }
   ],
   "source": [
    "#Pour encoder Y\n",
    "encoder = LabelEncoder()\n",
    "encoder.fit(Y)\n",
    "#converti le Y de chaine de caractères à numérique\n",
    "Y_numerique = encoder.transform(Y)\n",
    "\n",
    "print(Y_numerique)\n",
    "# convert integers to dummy variables (i.e. one hot encoded)\n",
    "y_encode_binaire = np_utils.to_categorical(Y_numerique)#6\n",
    "\n",
    "print(y_encode_binaire)"
   ]
  },
  {
   "cell_type": "code",
   "execution_count": 7,
   "metadata": {},
   "outputs": [
    {
     "name": "stdout",
     "output_type": "stream",
     "text": [
      "[[0. 0. 1. 0. 0. 0.]\n",
      " [0. 0. 1. 0. 0. 0.]\n",
      " [1. 0. 0. 0. 0. 0.]\n",
      " ...\n",
      " [0. 1. 0. 0. 0. 0.]\n",
      " [1. 0. 0. 0. 0. 0.]\n",
      " [1. 0. 0. 0. 0. 0.]]\n"
     ]
    }
   ],
   "source": [
    "print(y_encode_binaire)"
   ]
  },
  {
   "cell_type": "code",
   "execution_count": 8,
   "metadata": {},
   "outputs": [
    {
     "data": {
      "text/plain": [
       "array([[-1.45240564, -0.5225527 , -0.50074042, ...,  0.85178807,\n",
       "         0.41758741, -0.82643141],\n",
       "       [-0.33318022,  2.9795954 ,  3.32352667, ..., -1.21685247,\n",
       "        -0.17523392, -0.60309252],\n",
       "       [-0.89279293, -1.00229902, -1.0907702 , ...,  0.95029477,\n",
       "        -0.09429245,  0.57178261],\n",
       "       ...,\n",
       "       [ 0.22643249, -0.40261612, -0.25489468, ..., -1.70938594,\n",
       "        -1.08057928,  2.26100449],\n",
       "       [-0.05337386, -0.11476833, -0.09099752, ..., -0.13327885,\n",
       "        -0.29065047,  0.39901299],\n",
       "       [-0.05337386, -0.78641317, -0.69195378, ..., -1.31535917,\n",
       "        -1.11505435,  1.37672014]])"
      ]
     },
     "execution_count": 8,
     "metadata": {},
     "output_type": "execute_result"
    }
   ],
   "source": [
    "X #exemple X\n"
   ]
  },
  {
   "cell_type": "code",
   "execution_count": 15,
   "metadata": {},
   "outputs": [],
   "source": [
    "\n",
    "# create model\n",
    "model = Sequential()\n",
    "model.add(Dense(50, input_dim=58,kernel_initializer='normal', activation='relu'))#\n",
    "\n",
    "model.add(Dense(500, activation='relu'))\n",
    "model.add(Dense(6,kernel_initializer='normal', activation='softmax'))# a revoir la fct\n"
   ]
  },
  {
   "cell_type": "code",
   "execution_count": 16,
   "metadata": {},
   "outputs": [],
   "source": [
    "\n",
    "# Compile model\n",
    "sgd = SGD(lr=0.01)\n",
    "model.compile(loss='categorical_crossentropy', optimizer=sgd, metrics=['accuracy'])#adamax"
   ]
  },
  {
   "cell_type": "code",
   "execution_count": 17,
   "metadata": {},
   "outputs": [
    {
     "name": "stdout",
     "output_type": "stream",
     "text": [
      "Epoch 1/100\n",
      "20482/20482 [==============================] - 1s 62us/step - loss: 1.0975 - acc: 0.5655\n",
      "Epoch 2/100\n",
      "20482/20482 [==============================] - 1s 57us/step - loss: 0.7869 - acc: 0.7087\n",
      "Epoch 3/100\n",
      "20482/20482 [==============================] - 1s 57us/step - loss: 0.7318 - acc: 0.7238\n",
      "Epoch 4/100\n",
      "20482/20482 [==============================] - 1s 56us/step - loss: 0.6998 - acc: 0.7364\n",
      "Epoch 5/100\n",
      "20482/20482 [==============================] - 1s 56us/step - loss: 0.6741 - acc: 0.7465\n",
      "Epoch 6/100\n",
      "20482/20482 [==============================] - 1s 57us/step - loss: 0.6541 - acc: 0.7527\n",
      "Epoch 7/100\n",
      "20482/20482 [==============================] - 1s 57us/step - loss: 0.6365 - acc: 0.7589\n",
      "Epoch 8/100\n",
      "20482/20482 [==============================] - 1s 63us/step - loss: 0.6218 - acc: 0.7630\n",
      "Epoch 9/100\n",
      "20482/20482 [==============================] - 1s 58us/step - loss: 0.6103 - acc: 0.7653\n",
      "Epoch 10/100\n",
      "20482/20482 [==============================] - 1s 56us/step - loss: 0.5998 - acc: 0.7699\n",
      "Epoch 11/100\n",
      "20482/20482 [==============================] - 1s 56us/step - loss: 0.5899 - acc: 0.7742\n",
      "Epoch 12/100\n",
      "20482/20482 [==============================] - 1s 57us/step - loss: 0.5829 - acc: 0.7761\n",
      "Epoch 13/100\n",
      "20482/20482 [==============================] - 1s 56us/step - loss: 0.5759 - acc: 0.7779\n",
      "Epoch 14/100\n",
      "20482/20482 [==============================] - 1s 56us/step - loss: 0.5691 - acc: 0.7824\n",
      "Epoch 15/100\n",
      "20482/20482 [==============================] - 1s 57us/step - loss: 0.5618 - acc: 0.7846\n",
      "Epoch 16/100\n",
      "20482/20482 [==============================] - 1s 57us/step - loss: 0.5564 - acc: 0.7882\n",
      "Epoch 17/100\n",
      "20482/20482 [==============================] - 1s 70us/step - loss: 0.5504 - acc: 0.7898\n",
      "Epoch 18/100\n",
      "20482/20482 [==============================] - 1s 58us/step - loss: 0.5453 - acc: 0.7911\n",
      "Epoch 19/100\n",
      "20482/20482 [==============================] - 1s 56us/step - loss: 0.5406 - acc: 0.7922\n",
      "Epoch 20/100\n",
      "20482/20482 [==============================] - 1s 56us/step - loss: 0.5365 - acc: 0.7961\n",
      "Epoch 21/100\n",
      "20482/20482 [==============================] - 1s 60us/step - loss: 0.5323 - acc: 0.7954\n",
      "Epoch 22/100\n",
      "20482/20482 [==============================] - 1s 57us/step - loss: 0.5285 - acc: 0.7982\n",
      "Epoch 23/100\n",
      "20482/20482 [==============================] - 1s 56us/step - loss: 0.5292 - acc: 0.7989\n",
      "Epoch 24/100\n",
      "20482/20482 [==============================] - 1s 55us/step - loss: 0.5207 - acc: 0.8028\n",
      "Epoch 25/100\n",
      "20482/20482 [==============================] - 1s 56us/step - loss: 0.5170 - acc: 0.8046\n",
      "Epoch 26/100\n",
      "20482/20482 [==============================] - 1s 57us/step - loss: 0.5136 - acc: 0.8058\n",
      "Epoch 27/100\n",
      "20482/20482 [==============================] - 1s 58us/step - loss: 0.5100 - acc: 0.8068\n",
      "Epoch 28/100\n",
      "20482/20482 [==============================] - 1s 61us/step - loss: 0.5072 - acc: 0.8092\n",
      "Epoch 29/100\n",
      "20482/20482 [==============================] - 1s 60us/step - loss: 0.5048 - acc: 0.8084\n",
      "Epoch 30/100\n",
      "20482/20482 [==============================] - 1s 57us/step - loss: 0.5010 - acc: 0.8114\n",
      "Epoch 31/100\n",
      "20482/20482 [==============================] - 1s 59us/step - loss: 0.4984 - acc: 0.8127\n",
      "Epoch 32/100\n",
      "20482/20482 [==============================] - 1s 56us/step - loss: 0.4969 - acc: 0.8125\n",
      "Epoch 33/100\n",
      "20482/20482 [==============================] - 1s 57us/step - loss: 0.4942 - acc: 0.8135\n",
      "Epoch 34/100\n",
      "20482/20482 [==============================] - 1s 63us/step - loss: 0.4915 - acc: 0.8161\n",
      "Epoch 35/100\n",
      "20482/20482 [==============================] - 1s 57us/step - loss: 0.4894 - acc: 0.8171\n",
      "Epoch 36/100\n",
      "20482/20482 [==============================] - 1s 56us/step - loss: 0.4867 - acc: 0.8184\n",
      "Epoch 37/100\n",
      "20482/20482 [==============================] - 1s 56us/step - loss: 0.4849 - acc: 0.8183\n",
      "Epoch 38/100\n",
      "20482/20482 [==============================] - 1s 55us/step - loss: 0.4828 - acc: 0.8168\n",
      "Epoch 39/100\n",
      "20482/20482 [==============================] - 1s 55us/step - loss: 0.4799 - acc: 0.8189\n",
      "Epoch 40/100\n",
      "20482/20482 [==============================] - 1s 56us/step - loss: 0.4793 - acc: 0.8202\n",
      "Epoch 41/100\n",
      "20482/20482 [==============================] - 1s 56us/step - loss: 0.4756 - acc: 0.8230\n",
      "Epoch 42/100\n",
      "20482/20482 [==============================] - 1s 55us/step - loss: 0.4747 - acc: 0.8223\n",
      "Epoch 43/100\n",
      "20482/20482 [==============================] - 1s 70us/step - loss: 0.4739 - acc: 0.8234\n",
      "Epoch 44/100\n",
      "20482/20482 [==============================] - 1s 57us/step - loss: 0.4704 - acc: 0.8244\n",
      "Epoch 45/100\n",
      "20482/20482 [==============================] - 1s 63us/step - loss: 0.4683 - acc: 0.8236\n",
      "Epoch 46/100\n",
      "20482/20482 [==============================] - 1s 65us/step - loss: 0.4679 - acc: 0.8261\n",
      "Epoch 47/100\n",
      "20482/20482 [==============================] - 1s 58us/step - loss: 0.4664 - acc: 0.8260\n",
      "Epoch 48/100\n",
      "20482/20482 [==============================] - 1s 57us/step - loss: 0.4644 - acc: 0.8277\n",
      "Epoch 49/100\n",
      "20482/20482 [==============================] - 1s 59us/step - loss: 0.4631 - acc: 0.8249\n",
      "Epoch 50/100\n",
      "20482/20482 [==============================] - 1s 60us/step - loss: 0.4612 - acc: 0.8272\n",
      "Epoch 51/100\n",
      "20482/20482 [==============================] - 1s 61us/step - loss: 0.4586 - acc: 0.8276\n",
      "Epoch 52/100\n",
      "20482/20482 [==============================] - 1s 64us/step - loss: 0.4572 - acc: 0.8299\n",
      "Epoch 53/100\n",
      "20482/20482 [==============================] - 1s 62us/step - loss: 0.4564 - acc: 0.8306\n",
      "Epoch 54/100\n",
      "20482/20482 [==============================] - 2s 80us/step - loss: 0.4546 - acc: 0.8300\n",
      "Epoch 55/100\n",
      "20482/20482 [==============================] - 1s 65us/step - loss: 0.4542 - acc: 0.8294\n",
      "Epoch 56/100\n",
      "20482/20482 [==============================] - 1s 63us/step - loss: 0.4524 - acc: 0.8297\n",
      "Epoch 57/100\n",
      "20482/20482 [==============================] - 1s 59us/step - loss: 0.4513 - acc: 0.8320\n",
      "Epoch 58/100\n",
      "20482/20482 [==============================] - 1s 59us/step - loss: 0.4508 - acc: 0.8309\n",
      "Epoch 59/100\n",
      "20482/20482 [==============================] - 1s 57us/step - loss: 0.4491 - acc: 0.8320\n",
      "Epoch 60/100\n",
      "20482/20482 [==============================] - 1s 58us/step - loss: 0.4471 - acc: 0.8316\n",
      "Epoch 61/100\n",
      "20482/20482 [==============================] - 1s 58us/step - loss: 0.4462 - acc: 0.8329\n",
      "Epoch 62/100\n",
      "20482/20482 [==============================] - 1s 58us/step - loss: 0.4458 - acc: 0.8320\n",
      "Epoch 63/100\n",
      "20482/20482 [==============================] - 1s 57us/step - loss: 0.4439 - acc: 0.8333\n",
      "Epoch 64/100\n",
      "20482/20482 [==============================] - 1s 58us/step - loss: 0.4426 - acc: 0.8335\n",
      "Epoch 65/100\n",
      "20482/20482 [==============================] - 1s 56us/step - loss: 0.4415 - acc: 0.8350\n",
      "Epoch 66/100\n",
      "20482/20482 [==============================] - 1s 57us/step - loss: 0.4419 - acc: 0.8350\n",
      "Epoch 67/100\n",
      "20482/20482 [==============================] - 1s 57us/step - loss: 0.4401 - acc: 0.8339\n",
      "Epoch 68/100\n",
      "20482/20482 [==============================] - 1s 57us/step - loss: 0.4369 - acc: 0.8363\n",
      "Epoch 69/100\n",
      "20482/20482 [==============================] - 1s 57us/step - loss: 0.4362 - acc: 0.8353\n",
      "Epoch 70/100\n",
      "20482/20482 [==============================] - 1s 58us/step - loss: 0.4370 - acc: 0.8353\n",
      "Epoch 71/100\n",
      "20482/20482 [==============================] - 1s 67us/step - loss: 0.4334 - acc: 0.8359\n",
      "Epoch 72/100\n",
      "20482/20482 [==============================] - 1s 57us/step - loss: 0.4337 - acc: 0.8375\n",
      "Epoch 73/100\n",
      "20482/20482 [==============================] - 1s 57us/step - loss: 0.4312 - acc: 0.8382\n",
      "Epoch 74/100\n",
      "20482/20482 [==============================] - 1s 58us/step - loss: 0.4320 - acc: 0.8358\n",
      "Epoch 75/100\n",
      "20482/20482 [==============================] - 1s 57us/step - loss: 0.4303 - acc: 0.8391\n",
      "Epoch 76/100\n",
      "20482/20482 [==============================] - 1s 58us/step - loss: 0.4300 - acc: 0.8393\n",
      "Epoch 77/100\n",
      "20482/20482 [==============================] - 1s 58us/step - loss: 0.4286 - acc: 0.8392\n",
      "Epoch 78/100\n",
      "20482/20482 [==============================] - 1s 56us/step - loss: 0.4290 - acc: 0.8379\n",
      "Epoch 79/100\n",
      "20482/20482 [==============================] - 1s 57us/step - loss: 0.4265 - acc: 0.8414\n",
      "Epoch 80/100\n",
      "20482/20482 [==============================] - 1s 59us/step - loss: 0.4271 - acc: 0.8407\n",
      "Epoch 81/100\n"
     ]
    },
    {
     "name": "stdout",
     "output_type": "stream",
     "text": [
      "20482/20482 [==============================] - 1s 56us/step - loss: 0.4246 - acc: 0.8424\n",
      "Epoch 82/100\n",
      "20482/20482 [==============================] - 1s 57us/step - loss: 0.4233 - acc: 0.8392\n",
      "Epoch 83/100\n",
      "20482/20482 [==============================] - 1s 56us/step - loss: 0.4224 - acc: 0.8416\n",
      "Epoch 84/100\n",
      "20482/20482 [==============================] - 1s 57us/step - loss: 0.4221 - acc: 0.8400\n",
      "Epoch 85/100\n",
      "20482/20482 [==============================] - 1s 56us/step - loss: 0.4203 - acc: 0.8437\n",
      "Epoch 86/100\n",
      "20482/20482 [==============================] - 1s 57us/step - loss: 0.4206 - acc: 0.8424\n",
      "Epoch 87/100\n",
      "20482/20482 [==============================] - 1s 56us/step - loss: 0.4199 - acc: 0.8413\n",
      "Epoch 88/100\n",
      "20482/20482 [==============================] - 1s 58us/step - loss: 0.4186 - acc: 0.8429\n",
      "Epoch 89/100\n",
      "20482/20482 [==============================] - 1s 58us/step - loss: 0.4169 - acc: 0.8423\n",
      "Epoch 90/100\n",
      "20482/20482 [==============================] - 1s 57us/step - loss: 0.4157 - acc: 0.8437\n",
      "Epoch 91/100\n",
      "20482/20482 [==============================] - 1s 57us/step - loss: 0.4154 - acc: 0.8434\n",
      "Epoch 92/100\n",
      "20482/20482 [==============================] - 1s 57us/step - loss: 0.4153 - acc: 0.8435\n",
      "Epoch 93/100\n",
      "20482/20482 [==============================] - 1s 57us/step - loss: 0.4144 - acc: 0.8439\n",
      "Epoch 94/100\n",
      "20482/20482 [==============================] - 1s 56us/step - loss: 0.4124 - acc: 0.8436\n",
      "Epoch 95/100\n",
      "20482/20482 [==============================] - 1s 57us/step - loss: 0.4110 - acc: 0.8458\n",
      "Epoch 96/100\n",
      "20482/20482 [==============================] - 1s 56us/step - loss: 0.4106 - acc: 0.8441\n",
      "Epoch 97/100\n",
      "20482/20482 [==============================] - 1s 59us/step - loss: 0.4110 - acc: 0.8465\n",
      "Epoch 98/100\n",
      "20482/20482 [==============================] - 1s 57us/step - loss: 0.4098 - acc: 0.8454\n",
      "Epoch 99/100\n",
      "20482/20482 [==============================] - 1s 56us/step - loss: 0.4085 - acc: 0.8452\n",
      "Epoch 100/100\n",
      "20482/20482 [==============================] - 1s 57us/step - loss: 0.4079 - acc: 0.8470\n"
     ]
    },
    {
     "data": {
      "text/plain": [
       "<keras.callbacks.History at 0x1a1ffa5f60>"
      ]
     },
     "execution_count": 17,
     "metadata": {},
     "output_type": "execute_result"
    }
   ],
   "source": [
    "# Fit the model\n",
    "model.fit(X, y_encode_binaire, epochs=100, batch_size=32)"
   ]
  },
  {
   "cell_type": "code",
   "execution_count": 3,
   "metadata": {},
   "outputs": [
    {
     "ename": "NameError",
     "evalue": "name 'model' is not defined",
     "output_type": "error",
     "traceback": [
      "\u001b[0;31m---------------------------------------------------------------------------\u001b[0m",
      "\u001b[0;31mNameError\u001b[0m                                 Traceback (most recent call last)",
      "\u001b[0;32m<ipython-input-3-820a88a1c79e>\u001b[0m in \u001b[0;36m<module>\u001b[0;34m()\u001b[0m\n\u001b[0;32m----> 1\u001b[0;31m \u001b[0mscores\u001b[0m \u001b[0;34m=\u001b[0m \u001b[0mmodel\u001b[0m\u001b[0;34m.\u001b[0m\u001b[0mevaluate\u001b[0m\u001b[0;34m(\u001b[0m\u001b[0mX\u001b[0m\u001b[0;34m,\u001b[0m \u001b[0my_encode_binaire\u001b[0m\u001b[0;34m)\u001b[0m\u001b[0;34m\u001b[0m\u001b[0m\n\u001b[0m\u001b[1;32m      2\u001b[0m \u001b[0mprint\u001b[0m\u001b[0;34m(\u001b[0m\u001b[0;34m\"\\n%s: %.2f%%\"\u001b[0m \u001b[0;34m%\u001b[0m \u001b[0;34m(\u001b[0m\u001b[0mmodel\u001b[0m\u001b[0;34m.\u001b[0m\u001b[0mmetrics_names\u001b[0m\u001b[0;34m[\u001b[0m\u001b[0;36m1\u001b[0m\u001b[0;34m]\u001b[0m\u001b[0;34m,\u001b[0m \u001b[0mscores\u001b[0m\u001b[0;34m[\u001b[0m\u001b[0;36m1\u001b[0m\u001b[0;34m]\u001b[0m\u001b[0;34m*\u001b[0m\u001b[0;36m100\u001b[0m\u001b[0;34m)\u001b[0m\u001b[0;34m)\u001b[0m\u001b[0;34m\u001b[0m\u001b[0m\n\u001b[1;32m      3\u001b[0m \u001b[0;31m#print(scores)\u001b[0m\u001b[0;34m\u001b[0m\u001b[0;34m\u001b[0m\u001b[0m\n",
      "\u001b[0;31mNameError\u001b[0m: name 'model' is not defined"
     ]
    }
   ],
   "source": [
    "scores = model.evaluate(X, y_encode_binaire)\n",
    "print(\"\\n%s: %.2f%%\" % (model.metrics_names[1], scores[1]*100))\n",
    "#print(scores)"
   ]
  },
  {
   "cell_type": "code",
   "execution_count": 74,
   "metadata": {},
   "outputs": [
    {
     "name": "stderr",
     "output_type": "stream",
     "text": [
      "/anaconda3/lib/python3.6/site-packages/sklearn/preprocessing/label.py:151: DeprecationWarning: The truth value of an empty array is ambiguous. Returning False, but in future this will result in an error. Use `array.size > 0` to check that an array is not empty.\n",
      "  if diff:\n"
     ]
    },
    {
     "name": "stdout",
     "output_type": "stream",
     "text": [
      "(6828,)\n"
     ]
    },
    {
     "data": {
      "image/png": "[encoded data removed]",
      "text/plain": [
       "<matplotlib.figure.Figure at 0x1a1eb0b6a0>"
      ]
     },
     "metadata": {},
     "output_type": "display_data"
    }
   ],
   "source": [
    "predictions = model.predict_classes(X_test)\n",
    "classes = encoder.inverse_transform(predictions)\n",
    "\n",
    "\n",
    "import seaborn as sns\n",
    "import matplotlib.pyplot as plt\n",
    "\n",
    "print(classes.shape)\n",
    "sns.countplot(classes,label=\"Count\")\n",
    "plt.show()\n"
   ]
  },
  {
   "cell_type": "code",
   "execution_count": 78,
   "metadata": {},
   "outputs": [
    {
     "data": {
      "image/png": "[encoded data removed]",
      "text/plain": [
       "<matplotlib.figure.Figure at 0x1a1eb64eb8>"
      ]
     },
     "metadata": {},
     "output_type": "display_data"
    },
    {
     "data": {
      "text/plain": [
       "(6828,)"
      ]
     },
     "execution_count": 78,
     "metadata": {},
     "output_type": "execute_result"
    }
   ],
   "source": [
    "sns.countplot(Y_test,label=\"Count\")\n",
    "plt.show()\n",
    "Y_test.shape"
   ]
  },
  {
   "cell_type": "code",
   "execution_count": 28,
   "metadata": {},
   "outputs": [
    {
     "name": "stdout",
     "output_type": "stream",
     "text": [
      "Accuracy of LDA classifier on training set: 0.73\n",
      "Accuracy of LDA classifier on test set: 0.73\n"
     ]
    },
    {
     "name": "stderr",
     "output_type": "stream",
     "text": [
      "/anaconda3/lib/python3.6/site-packages/sklearn/discriminant_analysis.py:442: UserWarning: The priors do not sum to 1. Renormalizing\n",
      "  UserWarning)\n",
      "/anaconda3/lib/python3.6/site-packages/sklearn/discriminant_analysis.py:388: UserWarning: Variables are collinear.\n",
      "  warnings.warn(\"Variables are collinear.\")\n"
     ]
    }
   ],
   "source": [
    "\n",
    "lda = LinearDiscriminantAnalysis()\n",
    "lda.fit(X, Y)\n",
    "print('Accuracy of LDA classifier on training set: {:.2f}'\n",
    "     .format(lda.score(X, Y)))\n",
    "print('Accuracy of LDA classifier on test set: {:.2f}'\n",
    "     .format(lda.score(X_test, Y_test)))"
   ]
  },
  {
   "cell_type": "code",
   "execution_count": 58,
   "metadata": {},
   "outputs": [
    {
     "data": {
      "text/plain": [
       "\"n=1500\\nX, y = make_blobs(n_samples = n, \\n                  n_features = 6,\\n                  random_state = 42)\\nplt.scatter(X[:,0], X[:,5])\\n\\nkmeans = KMeans(n_clusters = 6, random_state = 0)                   \\nkmeans.fit(X)                  \\nplt.scatter(X[:, 0], X[:, 5],c = kmeans.labels_)\\nplt.scatter(kmeans.cluster_centers_[:, 0], kmeans.cluster_centers_[:, 1], s = 50, c = 'white')\""
      ]
     },
     "execution_count": 58,
     "metadata": {},
     "output_type": "execute_result"
    }
   ],
   "source": [
    "\n",
    "'''n=1500\n",
    "X, y = make_blobs(n_samples = n, \n",
    "                  n_features = 6,\n",
    "                  random_state = 42)\n",
    "plt.scatter(X[:,0], X[:,5])\n",
    "\n",
    "kmeans = KMeans(n_clusters = 6, random_state = 0)                   \n",
    "kmeans.fit(X)                  \n",
    "plt.scatter(X[:, 0], X[:, 5],c = kmeans.labels_)\n",
    "plt.scatter(kmeans.cluster_centers_[:, 0], kmeans.cluster_centers_[:, 1], s = 50, c = 'white')'''"
   ]
  },
  {
   "cell_type": "code",
   "execution_count": 60,
   "metadata": {},
   "outputs": [
    {
     "name": "stdout",
     "output_type": "stream",
     "text": [
      "(1500, 6)\n",
      "(1500, 6)\n",
      "(1500,)\n",
      "(20482,)\n"
     ]
    },
    {
     "data": {
      "image/png": "[encoded data removed]",
      "text/plain": [
       "<matplotlib.figure.Figure at 0x1a1fa32b00>"
      ]
     },
     "metadata": {},
     "output_type": "display_data"
    }
   ],
   "source": [
    "print(X.shape)\n",
    "\n",
    "kmeans = KMeans(n_clusters=6)\n",
    "kmeans.fit(X)\n",
    "y_kmeans = kmeans.predict(X)\n",
    "print(X.shape)\n",
    "plt.scatter(X[:, 0], X[:, 5], c=y_kmeans, s=10, cmap='viridis')\n",
    "\n",
    "centers = kmeans.cluster_centers_\n",
    "plt.scatter(centers[:, 0], centers[:, 5], c='black', s=200, alpha=0.5);\n",
    "\n",
    "print(kmeans.labels_.shape)\n",
    "print(Y_numerique.shape)\n",
    "\n",
    "#metrics.adjusted_rand_score(kmeans.labels_, Y_numerique)"
   ]
  },
  {
   "cell_type": "code",
   "execution_count": null,
   "metadata": {},
   "outputs": [],
   "source": []
  }
 ],
 "metadata": {
  "kernelspec": {
   "display_name": "Python 3",
   "language": "python",
   "name": "python3"
  },
  "language_info": {
   "codemirror_mode": {
    "name": "ipython",
    "version": 3
   },
   "file_extension": ".py",
   "mimetype": "text/x-python",
   "name": "python",
   "nbconvert_exporter": "python",
   "pygments_lexer": "ipython3",
   "version": "3.6.4"
  }
 },
 "nbformat": 4,
 "nbformat_minor": 2
}
