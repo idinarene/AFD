{
 "cells": [
  {
   "cell_type": "code",
   "execution_count": 131,
   "metadata": {},
   "outputs": [],
   "source": [
    "from keras.models import Sequential\n",
    "from keras.layers import Dense\n",
    "from keras.utils import np_utils\n",
    "from sklearn.preprocessing import LabelEncoder\n",
    "import numpy as np\n",
    "import pandas as pd\n",
    "from sklearn.svm import SVC\n",
    "from keras.optimizers import SGD\n",
    "import matplotlib.pyplot as plt\n",
    "from keras import *\n",
    "from sklearn.model_selection import train_test_split\n",
    "from sklearn.preprocessing import StandardScaler\n",
    "from sklearn.neighbors import KNeighborsClassifier\n",
    "from sklearn.decomposition import *\n",
    "# fix random seed for reproducibility\n",
    "np.random.seed(7)\n",
    "var_w=lambda shape: initializers.RandomUniform(-0.5,0.5)"
   ]
  },
  {
   "cell_type": "code",
   "execution_count": 132,
   "metadata": {},
   "outputs": [],
   "source": [
    "# load pima indians dataset\n",
    "dataset = pd.read_csv(\"/Users/malush/Documents/projet AFD 2018/AFD/train_cap2018.csv\", sep=\",\")\n",
    "# split into input (X) and output (Y) variables\n",
    "scaler = StandardScaler()\n",
    "X=dataset.iloc[:,1:59].astype(float)\n",
    "Y=dataset.iloc[:,59]\n",
    "\n",
    "\n",
    "X, X_test, Y, Y_test = train_test_split(X, Y)\n",
    "w = np.isnan(X)\n",
    "X[w] = 0#X.mean() à changer\n",
    "w2= np.isnan(X_test)\n",
    "X_test[w2] = 0\n",
    "\n",
    "#Normalisation \n",
    "\n",
    "scaler.fit(X)\n",
    "StandardScaler(copy=True, with_mean=True, with_std=True)\n",
    "\n",
    "# Now apply the transformations to the data:\n",
    "X = scaler.transform(X)\n",
    "X_test = scaler.transform(X_test)\n",
    "\n",
    "\n"
   ]
  },
  {
   "cell_type": "code",
   "execution_count": 133,
   "metadata": {},
   "outputs": [
    {
     "data": {
      "text/plain": [
       "(20482,)"
      ]
     },
     "execution_count": 133,
     "metadata": {},
     "output_type": "execute_result"
    }
   ],
   "source": [
    "Y.shape"
   ]
  },
  {
   "cell_type": "code",
   "execution_count": 134,
   "metadata": {},
   "outputs": [
    {
     "name": "stdout",
     "output_type": "stream",
     "text": [
      "[2 2 0 ... 1 0 0]\n",
      "[0 0 0 ... 0 4 0]\n",
      "[[1. 0. 0. 0. 0. 0.]\n",
      " [1. 0. 0. 0. 0. 0.]\n",
      " [1. 0. 0. 0. 0. 0.]\n",
      " ...\n",
      " [1. 0. 0. 0. 0. 0.]\n",
      " [0. 0. 0. 0. 1. 0.]\n",
      " [1. 0. 0. 0. 0. 0.]]\n"
     ]
    }
   ],
   "source": [
    "#Pour encoder Y\n",
    "encoder = LabelEncoder()\n",
    "encoder.fit(Y)\n",
    "#converti le Y de chaine de caractères à numérique\n",
    "Y_numerique = encoder.transform(Y)\n",
    "\n",
    "print(Y_numerique)\n",
    "# convert integers to dummy variables (i.e. one hot encoded)\n",
    "y_encode_binaire = np_utils.to_categorical(Y_numerique)#6\n",
    "\n",
    "#encoder Y_test\n",
    "#Pour encoder Y\n",
    "encoder = LabelEncoder()\n",
    "encoder.fit(Y_test)\n",
    "#converti le Y de chaine de caractères à numérique\n",
    "Y_test_numerique = encoder.transform(Y_test)\n",
    "\n",
    "print(Y_test_numerique)\n",
    "# convert integers to dummy variables (i.e. one hot encoded)\n",
    "y_test_encode_binaire = np_utils.to_categorical(Y_test_numerique)#6\n",
    "\n",
    "print(y_test_encode_binaire)"
   ]
  },
  {
   "cell_type": "code",
   "execution_count": 135,
   "metadata": {},
   "outputs": [
    {
     "name": "stdout",
     "output_type": "stream",
     "text": [
      "[[0. 0. 1. 0. 0. 0.]\n",
      " [0. 0. 1. 0. 0. 0.]\n",
      " [1. 0. 0. 0. 0. 0.]\n",
      " ...\n",
      " [0. 1. 0. 0. 0. 0.]\n",
      " [1. 0. 0. 0. 0. 0.]\n",
      " [1. 0. 0. 0. 0. 0.]]\n"
     ]
    }
   ],
   "source": [
    "print(y_encode_binaire)"
   ]
  },
  {
   "cell_type": "code",
   "execution_count": 136,
   "metadata": {},
   "outputs": [
    {
     "data": {
      "text/plain": [
       "array([[-1.45240564, -0.5225527 , -0.50074042, ...,  0.85178807,\n",
       "         0.41758741, -0.82643141],\n",
       "       [-0.33318022,  2.9795954 ,  3.32352667, ..., -1.21685247,\n",
       "        -0.17523392, -0.60309252],\n",
       "       [-0.89279293, -1.00229902, -1.0907702 , ...,  0.95029477,\n",
       "        -0.09429245,  0.57178261],\n",
       "       ...,\n",
       "       [ 0.22643249, -0.40261612, -0.25489468, ..., -1.70938594,\n",
       "        -1.08057928,  2.26100449],\n",
       "       [-0.05337386, -0.11476833, -0.09099752, ..., -0.13327885,\n",
       "        -0.29065047,  0.39901299],\n",
       "       [-0.05337386, -0.78641317, -0.69195378, ..., -1.31535917,\n",
       "        -1.11505435,  1.37672014]])"
      ]
     },
     "execution_count": 136,
     "metadata": {},
     "output_type": "execute_result"
    }
   ],
   "source": [
    "X #exemple X\n"
   ]
  },
  {
   "cell_type": "code",
   "execution_count": 137,
   "metadata": {},
   "outputs": [],
   "source": [
    "\n",
    "# create model\n",
    "model = Sequential()\n",
    "model.add(Dense(100, input_dim=58,kernel_initializer='normal', activation='relu'))#\n",
    "\n",
    "model.add(Dense(500, activation='relu'))\n",
    "model.add(Dense(6,kernel_initializer='normal', activation='softmax'))# a revoir la fct\n"
   ]
  },
  {
   "cell_type": "code",
   "execution_count": 140,
   "metadata": {},
   "outputs": [],
   "source": [
    "\n",
    "# Compile model\n",
    "sgd = SGD(lr=0.001)\n",
    "model.compile(loss='categorical_crossentropy', optimizer='adam', metrics=['accuracy'])#adamax"
   ]
  },
  {
   "cell_type": "code",
   "execution_count": 141,
   "metadata": {},
   "outputs": [
    {
     "name": "stdout",
     "output_type": "stream",
     "text": [
      "Epoch 1/100\n",
      "20482/20482 [==============================] - 3s 127us/step - loss: 0.6127 - acc: 0.7672\n",
      "Epoch 2/100\n",
      "20482/20482 [==============================] - 2s 98us/step - loss: 0.5546 - acc: 0.7870\n",
      "Epoch 3/100\n",
      "20482/20482 [==============================] - 2s 96us/step - loss: 0.5257 - acc: 0.8003\n",
      "Epoch 4/100\n",
      "20482/20482 [==============================] - 2s 105us/step - loss: 0.5059 - acc: 0.8070\n",
      "Epoch 5/100\n",
      "20482/20482 [==============================] - 2s 93us/step - loss: 0.4867 - acc: 0.8130\n",
      "Epoch 6/100\n",
      "20482/20482 [==============================] - 2s 98us/step - loss: 0.4730 - acc: 0.8189\n",
      "Epoch 7/100\n",
      "20482/20482 [==============================] - 2s 104us/step - loss: 0.4628 - acc: 0.8224\n",
      "Epoch 8/100\n",
      "20482/20482 [==============================] - 2s 98us/step - loss: 0.4482 - acc: 0.8298\n",
      "Epoch 9/100\n",
      "20482/20482 [==============================] - 2s 95us/step - loss: 0.4407 - acc: 0.8314\n",
      "Epoch 10/100\n",
      "20482/20482 [==============================] - 2s 87us/step - loss: 0.4310 - acc: 0.8351\n",
      "Epoch 11/100\n",
      "20482/20482 [==============================] - 2s 87us/step - loss: 0.4258 - acc: 0.8377\n",
      "Epoch 12/100\n",
      "20482/20482 [==============================] - 2s 84us/step - loss: 0.4116 - acc: 0.8400\n",
      "Epoch 13/100\n",
      "20482/20482 [==============================] - 2s 86us/step - loss: 0.4035 - acc: 0.8465\n",
      "Epoch 14/100\n",
      "20482/20482 [==============================] - 2s 90us/step - loss: 0.3951 - acc: 0.8483\n",
      "Epoch 15/100\n",
      "20482/20482 [==============================] - 2s 89us/step - loss: 0.3881 - acc: 0.8489\n",
      "Epoch 16/100\n",
      "20482/20482 [==============================] - 2s 83us/step - loss: 0.3797 - acc: 0.8529\n",
      "Epoch 17/100\n",
      "20482/20482 [==============================] - 2s 87us/step - loss: 0.3754 - acc: 0.8532\n",
      "Epoch 18/100\n",
      "20482/20482 [==============================] - 2s 89us/step - loss: 0.3668 - acc: 0.8582\n",
      "Epoch 19/100\n",
      "20482/20482 [==============================] - 2s 95us/step - loss: 0.3553 - acc: 0.8628\n",
      "Epoch 20/100\n",
      "20482/20482 [==============================] - 2s 89us/step - loss: 0.3449 - acc: 0.8655\n",
      "Epoch 21/100\n",
      "20482/20482 [==============================] - 2s 88us/step - loss: 0.3411 - acc: 0.8691\n",
      "Epoch 22/100\n",
      "20482/20482 [==============================] - 2s 85us/step - loss: 0.3316 - acc: 0.8697\n",
      "Epoch 23/100\n",
      "20482/20482 [==============================] - 2s 87us/step - loss: 0.3193 - acc: 0.8767\n",
      "Epoch 24/100\n",
      "20482/20482 [==============================] - 2s 86us/step - loss: 0.3124 - acc: 0.8791\n",
      "Epoch 25/100\n",
      "20482/20482 [==============================] - 2s 83us/step - loss: 0.3088 - acc: 0.8790\n",
      "Epoch 26/100\n",
      "20482/20482 [==============================] - 2s 91us/step - loss: 0.2960 - acc: 0.8856\n",
      "Epoch 27/100\n",
      "20482/20482 [==============================] - 2s 90us/step - loss: 0.2871 - acc: 0.8902\n",
      "Epoch 28/100\n",
      "20482/20482 [==============================] - 2s 89us/step - loss: 0.2817 - acc: 0.8921\n",
      "Epoch 29/100\n",
      "20482/20482 [==============================] - 2s 86us/step - loss: 0.2713 - acc: 0.8953\n",
      "Epoch 30/100\n",
      "20482/20482 [==============================] - 2s 87us/step - loss: 0.2638 - acc: 0.8975\n",
      "Epoch 31/100\n",
      "20482/20482 [==============================] - 2s 85us/step - loss: 0.2570 - acc: 0.9002\n",
      "Epoch 32/100\n",
      "20482/20482 [==============================] - 2s 87us/step - loss: 0.2499 - acc: 0.9034\n",
      "Epoch 33/100\n",
      "20482/20482 [==============================] - 2s 85us/step - loss: 0.2364 - acc: 0.9098\n",
      "Epoch 34/100\n",
      "20482/20482 [==============================] - 2s 91us/step - loss: 0.2271 - acc: 0.9124\n",
      "Epoch 35/100\n",
      "20482/20482 [==============================] - 2s 97us/step - loss: 0.2213 - acc: 0.9147\n",
      "Epoch 36/100\n",
      "20482/20482 [==============================] - 2s 120us/step - loss: 0.2152 - acc: 0.9168\n",
      "Epoch 37/100\n",
      "20482/20482 [==============================] - 2s 100us/step - loss: 0.2053 - acc: 0.9223\n",
      "Epoch 38/100\n",
      "20482/20482 [==============================] - 2s 112us/step - loss: 0.2030 - acc: 0.9230\n",
      "Epoch 39/100\n",
      "20482/20482 [==============================] - 2s 114us/step - loss: 0.1932 - acc: 0.9252\n",
      "Epoch 40/100\n",
      "20482/20482 [==============================] - 2s 99us/step - loss: 0.1822 - acc: 0.9296\n",
      "Epoch 41/100\n",
      "20482/20482 [==============================] - 2s 107us/step - loss: 0.1789 - acc: 0.9305\n",
      "Epoch 42/100\n",
      "20482/20482 [==============================] - 2s 90us/step - loss: 0.1710 - acc: 0.9358\n",
      "Epoch 43/100\n",
      "20482/20482 [==============================] - 2s 93us/step - loss: 0.1646 - acc: 0.9385\n",
      "Epoch 44/100\n",
      "20482/20482 [==============================] - 2s 110us/step - loss: 0.1604 - acc: 0.9385\n",
      "Epoch 45/100\n",
      "20482/20482 [==============================] - 2s 88us/step - loss: 0.1496 - acc: 0.9439\n",
      "Epoch 46/100\n",
      "20482/20482 [==============================] - 2s 89us/step - loss: 0.1465 - acc: 0.9452\n",
      "Epoch 47/100\n",
      "20482/20482 [==============================] - 2s 84us/step - loss: 0.1365 - acc: 0.9485\n",
      "Epoch 48/100\n",
      "20482/20482 [==============================] - 2s 91us/step - loss: 0.1340 - acc: 0.9495\n",
      "Epoch 49/100\n",
      "20482/20482 [==============================] - 2s 87us/step - loss: 0.1317 - acc: 0.9513\n",
      "Epoch 50/100\n",
      "20482/20482 [==============================] - 2s 85us/step - loss: 0.1265 - acc: 0.9553\n",
      "Epoch 51/100\n",
      "20482/20482 [==============================] - 2s 89us/step - loss: 0.1237 - acc: 0.9550\n",
      "Epoch 52/100\n",
      "20482/20482 [==============================] - 2s 88us/step - loss: 0.1187 - acc: 0.9551\n",
      "Epoch 53/100\n",
      "20482/20482 [==============================] - 2s 108us/step - loss: 0.1210 - acc: 0.9551\n",
      "Epoch 54/100\n",
      "20482/20482 [==============================] - 2s 94us/step - loss: 0.1078 - acc: 0.9615\n",
      "Epoch 55/100\n",
      "20482/20482 [==============================] - 2s 90us/step - loss: 0.1238 - acc: 0.9547\n",
      "Epoch 56/100\n",
      "20482/20482 [==============================] - 2s 95us/step - loss: 0.0949 - acc: 0.9677\n",
      "Epoch 57/100\n",
      "20482/20482 [==============================] - 2s 99us/step - loss: 0.0932 - acc: 0.9671\n",
      "Epoch 58/100\n",
      "20482/20482 [==============================] - 2s 92us/step - loss: 0.0944 - acc: 0.9673\n",
      "Epoch 59/100\n",
      "20482/20482 [==============================] - 2s 93us/step - loss: 0.0963 - acc: 0.9663\n",
      "Epoch 60/100\n",
      "20482/20482 [==============================] - 2s 96us/step - loss: 0.0860 - acc: 0.9698\n",
      "Epoch 61/100\n",
      "20482/20482 [==============================] - 2s 93us/step - loss: 0.0786 - acc: 0.9729\n",
      "Epoch 62/100\n",
      "20482/20482 [==============================] - 2s 90us/step - loss: 0.1075 - acc: 0.9617\n",
      "Epoch 63/100\n",
      "20482/20482 [==============================] - 2s 88us/step - loss: 0.0747 - acc: 0.9754\n",
      "Epoch 64/100\n",
      "20482/20482 [==============================] - 2s 93us/step - loss: 0.0738 - acc: 0.9745\n",
      "Epoch 65/100\n",
      "20482/20482 [==============================] - 2s 89us/step - loss: 0.0732 - acc: 0.9750\n",
      "Epoch 66/100\n",
      "20482/20482 [==============================] - 2s 90us/step - loss: 0.0791 - acc: 0.9729\n",
      "Epoch 67/100\n",
      "20482/20482 [==============================] - 2s 89us/step - loss: 0.0630 - acc: 0.9781\n",
      "Epoch 68/100\n",
      "20482/20482 [==============================] - 2s 87us/step - loss: 0.0786 - acc: 0.9736\n",
      "Epoch 69/100\n",
      "20482/20482 [==============================] - 2s 90us/step - loss: 0.0648 - acc: 0.9779\n",
      "Epoch 70/100\n",
      "20482/20482 [==============================] - 2s 98us/step - loss: 0.0687 - acc: 0.9758\n",
      "Epoch 71/100\n",
      "20482/20482 [==============================] - 2s 111us/step - loss: 0.0633 - acc: 0.9780\n",
      "Epoch 72/100\n",
      "20482/20482 [==============================] - 2s 102us/step - loss: 0.0716 - acc: 0.9749\n",
      "Epoch 73/100\n",
      "20482/20482 [==============================] - 2s 97us/step - loss: 0.0577 - acc: 0.9804\n",
      "Epoch 74/100\n",
      "20482/20482 [==============================] - 2s 104us/step - loss: 0.0507 - acc: 0.9831\n",
      "Epoch 75/100\n",
      "20482/20482 [==============================] - 2s 95us/step - loss: 0.0800 - acc: 0.9722\n",
      "Epoch 76/100\n",
      "20482/20482 [==============================] - 2s 96us/step - loss: 0.0563 - acc: 0.9824\n",
      "Epoch 77/100\n",
      "20482/20482 [==============================] - 2s 111us/step - loss: 0.0541 - acc: 0.9831\n",
      "Epoch 78/100\n",
      "20482/20482 [==============================] - 2s 108us/step - loss: 0.0589 - acc: 0.9784\n",
      "Epoch 79/100\n",
      "20482/20482 [==============================] - 2s 91us/step - loss: 0.0521 - acc: 0.9813\n",
      "Epoch 80/100\n",
      "20482/20482 [==============================] - 2s 88us/step - loss: 0.0693 - acc: 0.9771\n",
      "Epoch 81/100\n"
     ]
    },
    {
     "name": "stdout",
     "output_type": "stream",
     "text": [
      "20482/20482 [==============================] - 2s 89us/step - loss: 0.0375 - acc: 0.9880\n",
      "Epoch 82/100\n",
      "20482/20482 [==============================] - 2s 91us/step - loss: 0.0602 - acc: 0.9804\n",
      "Epoch 83/100\n",
      "20482/20482 [==============================] - 2s 98us/step - loss: 0.0580 - acc: 0.9815\n",
      "Epoch 84/100\n",
      "20482/20482 [==============================] - 2s 110us/step - loss: 0.0642 - acc: 0.9782\n",
      "Epoch 85/100\n",
      "20482/20482 [==============================] - 2s 94us/step - loss: 0.0419 - acc: 0.9859\n",
      "Epoch 86/100\n",
      "20482/20482 [==============================] - 2s 116us/step - loss: 0.0736 - acc: 0.9761\n",
      "Epoch 87/100\n",
      "20482/20482 [==============================] - 2s 88us/step - loss: 0.0400 - acc: 0.9871\n",
      "Epoch 88/100\n",
      "20482/20482 [==============================] - 2s 90us/step - loss: 0.0477 - acc: 0.9831\n",
      "Epoch 89/100\n",
      "20482/20482 [==============================] - 2s 111us/step - loss: 0.0525 - acc: 0.9813\n",
      "Epoch 90/100\n",
      "20482/20482 [==============================] - 2s 88us/step - loss: 0.0778 - acc: 0.9759\n",
      "Epoch 91/100\n",
      "20482/20482 [==============================] - 2s 89us/step - loss: 0.0230 - acc: 0.9940\n",
      "Epoch 92/100\n",
      "20482/20482 [==============================] - 2s 104us/step - loss: 0.0240 - acc: 0.9935\n",
      "Epoch 93/100\n",
      "20482/20482 [==============================] - 2s 93us/step - loss: 0.0973 - acc: 0.9663\n",
      "Epoch 94/100\n",
      "20482/20482 [==============================] - 2s 92us/step - loss: 0.0362 - acc: 0.9880\n",
      "Epoch 95/100\n",
      "20482/20482 [==============================] - 2s 92us/step - loss: 0.0288 - acc: 0.9921\n",
      "Epoch 96/100\n",
      "20482/20482 [==============================] - 2s 92us/step - loss: 0.0606 - acc: 0.9797\n",
      "Epoch 97/100\n",
      "20482/20482 [==============================] - 2s 117us/step - loss: 0.0532 - acc: 0.9821\n",
      "Epoch 98/100\n",
      "20482/20482 [==============================] - 2s 105us/step - loss: 0.0346 - acc: 0.9896\n",
      "Epoch 99/100\n",
      "20482/20482 [==============================] - 2s 108us/step - loss: 0.0632 - acc: 0.9790\n",
      "Epoch 100/100\n",
      "20482/20482 [==============================] - 2s 95us/step - loss: 0.0418 - acc: 0.9863\n"
     ]
    },
    {
     "data": {
      "text/plain": [
       "<keras.callbacks.History at 0x1a1bd2bba8>"
      ]
     },
     "execution_count": 141,
     "metadata": {},
     "output_type": "execute_result"
    }
   ],
   "source": [
    "# Fit the model\n",
    "model.fit(X, y_encode_binaire, epochs=100, batch_size=32)"
   ]
  },
  {
   "cell_type": "code",
   "execution_count": null,
   "metadata": {},
   "outputs": [],
   "source": [
    "scores = model.evaluate(X, y_encode_binaire)\n",
    "print(\"\\n%s: %.2f%%\" % (model.metrics_names[1], scores[1]*100))\n",
    "#print(scores)"
   ]
  },
  {
   "cell_type": "code",
   "execution_count": null,
   "metadata": {},
   "outputs": [],
   "source": [
    "predictions = model.predict_classes(X_test)\n",
    "classes = encoder.inverse_transform(predictions)\n",
    "\n",
    "\n",
    "import seaborn as sns\n",
    "import matplotlib.pyplot as plt\n",
    "\n",
    "print(classes.shape)\n",
    "sns.countplot(classes,label=\"Count\")\n",
    "plt.show()\n"
   ]
  },
  {
   "cell_type": "code",
   "execution_count": 58,
   "metadata": {},
   "outputs": [
    {
     "data": {
      "image/png": "[encoded data removed]",
      "text/plain": [
       "<matplotlib.figure.Figure at 0x27ba1da8b70>"
      ]
     },
     "metadata": {},
     "output_type": "display_data"
    },
    {
     "data": {
      "text/plain": [
       "(6828,)"
      ]
     },
     "execution_count": 58,
     "metadata": {},
     "output_type": "execute_result"
    }
   ],
   "source": [
    "sns.countplot(Y_test,label=\"Count\")\n",
    "plt.show()\n",
    "Y_test.shape"
   ]
  },
  {
   "cell_type": "code",
   "execution_count": null,
   "metadata": {},
   "outputs": [],
   "source": []
  },
  {
   "cell_type": "code",
   "execution_count": 5,
   "metadata": {},
   "outputs": [
    {
     "name": "stdout",
     "output_type": "stream",
     "text": [
      "Accuracy of K-NN classifier on training set: 0.82\n",
      "Accuracy of K-NN classifier on test set: 0.75\n"
     ]
    }
   ],
   "source": [
    "#KNN\n",
    "knn = KNeighborsClassifier()\n",
    "knn.fit(X, Y_numerique)\n",
    "print('Accuracy of K-NN classifier on training set: {:.2f}'\n",
    "     .format(knn.score(X, Y_numerique)))\n",
    "print('Accuracy of K-NN classifier on test set: {:.2f}'\n",
    "     .format(knn.score(X_test, Y_test_numerique)))"
   ]
  },
  {
   "cell_type": "code",
   "execution_count": 60,
   "metadata": {},
   "outputs": [
    {
     "name": "stdout",
     "output_type": "stream",
     "text": [
      "Accuracy of SVM classifier on training set: 0.80\n",
      "Accuracy of SVM classifier on test set: 0.79\n"
     ]
    }
   ],
   "source": [
    "svm = SVC()\n",
    "svm.fit(X,Y_numerique)\n",
    "print('Accuracy of SVM classifier on training set: {:.2f}'\n",
    "     .format(svm.score(X, Y_numerique)))\n",
    "print('Accuracy of SVM classifier on test set: {:.2f}'\n",
    "     .format(svm.score(X_test, Y_test_numerique)))\n",
    "    "
   ]
  },
  {
   "cell_type": "code",
   "execution_count": 62,
   "metadata": {},
   "outputs": [
    {
     "name": "stdout",
     "output_type": "stream",
     "text": [
      "Accuracy of Decision Tree classifier on training set: 1.00\n",
      "Accuracy of Decision Tree classifier on test set: 0.72\n"
     ]
    }
   ],
   "source": [
    "#arbre de décision\n",
    "from sklearn.tree import DecisionTreeClassifier\n",
    "clf = DecisionTreeClassifier().fit(X,Y_numerique)\n",
    "print('Accuracy of Decision Tree classifier on training set: {:.2f}'\n",
    "     .format(clf.score(X,Y_numerique)))\n",
    "print('Accuracy of Decision Tree classifier on test set: {:.2f}'\n",
    "     .format(clf.score(X_test,Y_test_numerique)))"
   ]
  },
  {
   "cell_type": "code",
   "execution_count": 12,
   "metadata": {
    "collapsed": true
   },
   "outputs": [],
   "source": [
    "from sklearn.cluster import KMeans\n",
    "'''\n",
    "kmeans = KMeans(n_clusters=6)\n",
    "kmeans.fit(X)\n",
    "y_kmeans = kmeans.predict(X)\n",
    "plt.scatter(X[:, 0], X[:, 1], c=y_kmeans, s=50, cmap='viridis')\n",
    "centers = kmeans.cluster_centers_\n",
    "plt.scatter(centers[:, 0], centers[:, 1], c='black', s=200, alpha=0.5)\n",
    "plt.show()\n",
    "\n",
    "'''\n",
    "kmeans = KMeans(n_clusters=6,max_iter=400,init = 'k-means++',tol=0.00001,n_init=20,random_state=50)\n",
    "y_kmeans = kmeans.fit_predict(X)\n"
   ]
  },
  {
   "cell_type": "code",
   "execution_count": null,
   "metadata": {
    "collapsed": true
   },
   "outputs": [],
   "source": [
    "idk=np.argsort(kmeans.labels_)\n",
    "\n",
    "print(pd.DataFrame(X))"
   ]
  },
  {
   "cell_type": "code",
   "execution_count": 13,
   "metadata": {},
   "outputs": [
    {
     "name": "stderr",
     "output_type": "stream",
     "text": [
      "C:\\Users\\PICOS\\Anaconda3\\lib\\site-packages\\sklearn\\utils\\deprecation.py:58: DeprecationWarning: Class RandomizedPCA is deprecated; RandomizedPCA was deprecated in 0.18 and will be removed in 0.20. Use PCA(svd_solver='randomized') instead. The new implementation DOES NOT store whiten ``components_``. Apply transform to get them.\n",
      "  warnings.warn(msg, category=DeprecationWarning)\n"
     ]
    }
   ],
   "source": [
    "randomized_pca = RandomizedPCA(n_components=2)\n",
    "reduced_data_rpca = randomized_pca.fit_transform(X)\n",
    "pca = PCA(n_components=2)\n",
    "reduced_data_pca = pca.fit_transform(X)\n"
   ]
  },
  {
   "cell_type": "code",
   "execution_count": 53,
   "metadata": {},
   "outputs": [
    {
     "name": "stdout",
     "output_type": "stream",
     "text": [
      "[4 4 3 ..., 1 1 1]\n"
     ]
    }
   ],
   "source": [
    "print(kmeans.labels_)"
   ]
  },
  {
   "cell_type": "code",
   "execution_count": 15,
   "metadata": {},
   "outputs": [
    {
     "data": {
      "image/png": "[encoded data removed]",
      "text/plain": [
       "<matplotlib.figure.Figure at 0x225a6d0f550>"
      ]
     },
     "metadata": {},
     "output_type": "display_data"
    }
   ],
   "source": [
    "plt.scatter(reduced_data_pca[:, 0], reduced_data_pca[:, 1], c=y_kmeans, cmap='viridis')\n",
    "centers = kmeans.cluster_centers_\n",
    "plt.scatter(centers[:, 0], centers[:, 1],marker='*', c='black')\n",
    "#centers = kmeans.cluster_centers_\n",
    "#plt.scatter(centers[:, 0], centers[:, 1], c='red', s=200, alpha=0.5)\n",
    "plt.show()"
   ]
  },
  {
   "cell_type": "code",
   "execution_count": 65,
   "metadata": {},
   "outputs": [
    {
     "data": {
      "image/png": "[encoded data removed]",
      "text/plain": [
       "<matplotlib.figure.Figure at 0x2742bc2fa20>"
      ]
     },
     "metadata": {},
     "output_type": "display_data"
    },
    {
     "data": {
      "text/plain": [
       "\"\\nplt.scatter(x[y_kmeans == 1, 0], x[y_kmeans == 1, 1], s = 100, c = 'blue', label = 'C2')\\nplt.scatter(x[y_kmeans == 2, 0], x[y_kmeans == 2, 1], s = 100, c = 'green', label = 'C3')\\nplt.scatter(x[y_kmeans == 0, 0], x[y_kmeans == 0, 1], s = 100, c = 'red', label = 'C1')\\nplt.scatter(x[y_kmeans == 1, 0], x[y_kmeans == 1, 1], s = 100, c = 'blue', label = 'C2')\\nplt.scatter(x[y_kmeans == 2, 0], x[y_kmeans == 2, 1], s = 100, c = 'green', label = 'C3')\\n\""
      ]
     },
     "execution_count": 65,
     "metadata": {},
     "output_type": "execute_result"
    }
   ],
   "source": [
    "#plt.scatter(X[y_kmeans == 0, 0], X[y_kmeans == 0, 1], s = 100, c = 'red', label = 'C1')\n",
    "plt.scatter(X[y_kmeans == 1, 0], X[y_kmeans == 1, 1], s = 100, c = 'blue', label = 'C2')\n",
    "plt.show()\n",
    "'''\n",
    "plt.scatter(x[y_kmeans == 1, 0], x[y_kmeans == 1, 1], s = 100, c = 'blue', label = 'C2')\n",
    "plt.scatter(x[y_kmeans == 2, 0], x[y_kmeans == 2, 1], s = 100, c = 'green', label = 'C3')\n",
    "plt.scatter(x[y_kmeans == 0, 0], x[y_kmeans == 0, 1], s = 100, c = 'red', label = 'C1')\n",
    "plt.scatter(x[y_kmeans == 1, 0], x[y_kmeans == 1, 1], s = 100, c = 'blue', label = 'C2')\n",
    "plt.scatter(x[y_kmeans == 2, 0], x[y_kmeans == 2, 1], s = 100, c = 'green', label = 'C3')\n",
    "'''\n"
   ]
  },
  {
   "cell_type": "code",
   "execution_count": null,
   "metadata": {
    "collapsed": true
   },
   "outputs": [],
   "source": []
  }
 ],
 "metadata": {
  "kernelspec": {
   "display_name": "Python 3",
   "language": "python",
   "name": "python3"
  },
  "language_info": {
   "codemirror_mode": {
    "name": "ipython",
    "version": 3
   },
   "file_extension": ".py",
   "mimetype": "text/x-python",
   "name": "python",
   "nbconvert_exporter": "python",
   "pygments_lexer": "ipython3",
   "version": "3.6.4"
  }
 },
 "nbformat": 4,
 "nbformat_minor": 2
}
