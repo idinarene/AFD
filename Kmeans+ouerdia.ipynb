{
 "cells": [
  {
   "cell_type": "code",
   "execution_count": 18,
   "metadata": {
    "collapsed": true
   },
   "outputs": [],
   "source": [
    "from keras.utils import np_utils\n",
    "from sklearn.preprocessing import LabelEncoder\n",
    "import numpy as np\n",
    "import pandas as pd\n",
    "from sklearn.svm import SVC\n",
    "from sklearn.model_selection import train_test_split\n",
    "from sklearn.preprocessing import StandardScaler\n",
    "from sklearn.neighbors import KNeighborsClassifier\n",
    "from sklearn.decomposition import *\n",
    "from sklearn.metrics import confusion_matrix\n",
    "import seaborn as sns\n",
    "from sklearn.cluster import KMeans\n",
    "import matplotlib.pyplot as plt"
   ]
  },
  {
   "cell_type": "code",
   "execution_count": 19,
   "metadata": {
    "collapsed": true
   },
   "outputs": [],
   "source": [
    "# load pima indians dataset\n",
    "dataset = pd.read_csv(\"D:/Cours Dauphine/S2/AFD/projet/codeSource/train_cap2018.csv\", sep=\",\")\n",
    "# split into input (X) and output (Y) variables\n",
    "scaler = StandardScaler()\n",
    "X=dataset.iloc[:,1:59].astype(float)\n",
    "Y=dataset.iloc[:,59]\n",
    "X, X_test, Y, Y_test = train_test_split(X, Y)\n",
    "w = np.isnan(X)\n",
    "X[w] = 0#X.mean() à changer\n",
    "w2= np.isnan(X_test)\n",
    "X_test[w2] = 0\n",
    "\n",
    "#Normalisation \n",
    "\n",
    "scaler.fit(X)\n",
    "StandardScaler(copy=True, with_mean=True, with_std=True)\n",
    "\n",
    "# Now apply the transformations to the data:\n",
    "X = scaler.transform(X)\n",
    "X_test = scaler.transform(X_test)\n"
   ]
  },
  {
   "cell_type": "code",
   "execution_count": 11,
   "metadata": {},
   "outputs": [
    {
     "name": "stdout",
     "output_type": "stream",
     "text": [
      "[0 3 0 ..., 1 3 2]\n",
      "[1 3 2 ..., 2 2 1]\n",
      "[[ 0.  1.  0.  0.  0.  0.]\n",
      " [ 0.  0.  0.  1.  0.  0.]\n",
      " [ 0.  0.  1.  0.  0.  0.]\n",
      " ..., \n",
      " [ 0.  0.  1.  0.  0.  0.]\n",
      " [ 0.  0.  1.  0.  0.  0.]\n",
      " [ 0.  1.  0.  0.  0.  0.]]\n"
     ]
    }
   ],
   "source": [
    "#Pour encoder Y\n",
    "encoder = LabelEncoder()\n",
    "encoder.fit(Y)\n",
    "#converti le Y de chaine de caractères à numérique\n",
    "Y_numerique = encoder.transform(Y)\n",
    "\n",
    "print(Y_numerique)\n",
    "# convert integers to dummy variables (i.e. one hot encoded)\n",
    "y_encode_binaire = np_utils.to_categorical(Y_numerique)#6\n",
    "\n",
    "#encoder Y_test\n",
    "#Pour encoder Y\n",
    "encoder = LabelEncoder()\n",
    "encoder.fit(Y_test)\n",
    "#converti le Y de chaine de caractères à numérique\n",
    "Y_test_numerique = encoder.transform(Y_test)\n",
    "\n",
    "print(Y_test_numerique)\n",
    "# convert integers to dummy variables (i.e. one hot encoded)\n",
    "y_test_encode_binaire = np_utils.to_categorical(Y_test_numerique)#6\n",
    "\n",
    "print(y_test_encode_binaire)"
   ]
  },
  {
   "cell_type": "code",
   "execution_count": 12,
   "metadata": {},
   "outputs": [
    {
     "name": "stdout",
     "output_type": "stream",
     "text": [
      "[1 2 0 ..., 0 2 1]\n"
     ]
    }
   ],
   "source": [
    "kmeans = KMeans(n_clusters=6,max_iter=400,init = 'k-means++',tol=0.00001,n_init=20,random_state=50)\n",
    "y_kmeans = kmeans.fit_predict(X)\n",
    "print(y_kmeans)"
   ]
  },
  {
   "cell_type": "code",
   "execution_count": 6,
   "metadata": {},
   "outputs": [
    {
     "name": "stdout",
     "output_type": "stream",
     "text": [
      "             0         1         2         3         4         5         6   \\\n",
      "0     -0.330507 -0.179383 -0.176711 -0.294168 -0.315473 -0.123883  0.058598   \n",
      "1      0.230412 -0.275262 -0.264048 -0.261020  0.070136 -0.496695  0.072016   \n",
      "2     -0.330507 -0.179383 -0.100291 -0.145002 -0.958153 -0.123883  0.512593   \n",
      "3      1.352249  0.851309  0.980508  1.114623  0.584280 -0.382545  0.744840   \n",
      "4     -1.452345 -1.162136 -1.044625 -1.023424 -1.472297  0.655398  0.917173   \n",
      "5     -1.171886 -1.090227 -1.246592 -1.172590 -1.215225 -0.160129 -3.319339   \n",
      "6     -0.330507 -1.329923 -1.295719 -1.321756 -0.572545 -0.993779 -1.141245   \n",
      "7     -0.610967 -1.329923 -1.290261 -1.321756 -1.086689 -0.930349 -0.997635   \n",
      "8      0.230412 -0.107475  0.156262  0.219626 -0.315473 -0.406081  1.565262   \n",
      "9     -0.050048  0.012373 -0.187628 -0.078706  0.969888 -0.190333 -0.940190   \n",
      "10     0.230412  0.156191 -0.012954 -0.062132 -0.315473 -0.263688 -0.665063   \n",
      "11     0.230412  1.019096  0.816750  0.849439 -0.186936  0.202328 -0.351387   \n",
      "12    -0.891426 -1.018319 -1.028249 -1.023424 -1.086689 -0.431971 -0.880619   \n",
      "13    -0.330507 -0.323201 -0.416888 -0.410186 -0.186936 -0.232620 -0.638608   \n",
      "14    -0.050048 -0.730684 -0.651607 -0.708518 -0.572545 -0.658506  0.431106   \n",
      "15     0.230412  0.995126  1.018718  0.849439  1.098424  0.189383  0.389307   \n",
      "16    -0.050048 -0.155414 -0.378678 -0.343890 -0.701081 -0.296050 -1.252942   \n",
      "17     0.230412 -0.299231 -0.384137 -0.244446 -0.315473 -0.509640 -0.559245   \n",
      "18    -0.330507 -0.490988 -0.280424 -0.244446 -0.701081 -0.359480  1.464261   \n",
      "19    -1.171886 -0.682744 -0.657066 -0.592500 -0.958153  0.610091 -0.037896   \n",
      "20     1.913168  0.491765  0.434650  0.501384  1.998177 -0.620170 -0.001935   \n",
      "21    -0.050048  0.443826  0.642076  0.650550 -0.701081  0.081509  1.052080   \n",
      "22    -0.330507 -0.107475  0.167180  0.087034 -0.444009 -0.069515  1.627125   \n",
      "23     0.510871  2.193605  1.908466  1.993045  0.712816  0.576111 -0.235874   \n",
      "24     1.632709  0.731461  0.909546  0.783142  1.226961 -0.492380  0.929619   \n",
      "25     1.071790  1.138944  0.996883  0.882587  0.327208 -0.187313 -0.118787   \n",
      "26    -0.610967 -0.299231 -0.062081 -0.145002 -0.186936  0.043753  1.521849   \n",
      "27    -0.891426 -0.850532 -0.667983 -0.725092 -0.958153 -0.220538  1.519774   \n",
      "28     0.510871  1.186883  1.062386  1.164345  1.226961  0.100387 -0.051494   \n",
      "29    -0.050048 -1.066258 -0.990039 -0.990276  0.969888 -0.869939  0.266138   \n",
      "...         ...       ...       ...       ...       ...       ...       ...   \n",
      "20452  0.791330  2.001848  1.859339  1.893601  0.969888  0.292942  0.061141   \n",
      "20453 -1.452345 -1.353893 -1.241133 -1.255460 -1.215225 -0.069515  0.946632   \n",
      "20454 -0.330507  0.060312  0.079842  0.153330  0.584280  0.057345  0.227044   \n",
      "20455  1.913168  1.330700  1.138806  1.214067  1.998177 -0.376209 -0.216393   \n",
      "20456 -1.171886 -1.281984 -1.159255 -1.156016 -0.186936 -0.522585  1.120621   \n",
      "20457 -0.050048 -0.730684 -0.771696 -0.824536 -0.829617 -0.658506 -0.703049   \n",
      "20458 -1.452345 -1.329923 -1.295719 -1.321756 -1.215225  0.021100 -1.141245   \n",
      "20459 -0.050048 -0.155414 -0.340468 -0.244446 -0.701081 -0.296050 -1.029548   \n",
      "20460 -0.330507 -0.946410 -0.929995 -0.973702 -0.572545 -0.703813 -0.404044   \n",
      "20461 -0.610967 -0.658775 -0.809906 -0.725092 -0.701081 -0.296050 -1.572077   \n",
      "20462 -1.452345 -1.281984 -1.219299 -1.272034 -0.701081  0.202328 -0.261630   \n",
      "20463 -1.171886 -0.059535  0.025257  0.087034 -0.315473  1.788075  0.554217   \n",
      "20464  0.510871 -0.179383 -0.193087 -0.178150  0.198672 -0.545239 -0.038687   \n",
      "20465  0.510871 -0.922440 -0.842657 -0.890832 -0.444009 -0.896368  0.382880   \n",
      "20466  0.230412 -0.706714 -0.869950 -0.824536 -0.058400 -0.729703 -1.794673   \n",
      "20467 -1.171886 -1.258014 -1.197465 -1.189164 -0.315473 -0.477278 -0.254239   \n",
      "20468 -0.050048 -1.329923 -1.295719 -1.321756 -0.701081 -1.036065 -1.141245   \n",
      "20469 -0.050048 -0.011596 -0.149418 -0.095280 -0.315473 -0.205436 -0.631324   \n",
      "20470  0.510871 -0.083505 -0.340468 -0.194724  0.841352 -0.499932 -1.354485   \n",
      "20471 -0.330507 -0.706714 -0.782613 -0.708518 -0.958153 -0.522585 -0.990454   \n",
      "20472 -0.050048 -0.035566 -0.067539 -0.028984 -0.958153 -0.220538 -0.076837   \n",
      "20473 -0.610967 -0.155414 -0.242214 -0.327316 -0.829617  0.179674 -0.455106   \n",
      "20474 -0.050048 -0.706714 -0.831740 -0.774814 -0.444009 -0.643404 -1.442828   \n",
      "20475 -0.050048 -0.730684 -0.657066 -0.658796  0.070136 -0.658506  0.379554   \n",
      "20476  0.791330  1.258791  1.433570  1.528973  0.584280 -0.019173  0.869303   \n",
      "20477 -0.891426  0.371917  0.259975  0.319070  0.070136  1.319902 -0.277892   \n",
      "20478 -0.610967 -0.874501 -0.929995 -0.841110 -0.701081 -0.499932 -1.110782   \n",
      "20479 -1.452345 -1.114197 -1.022790 -1.006850 -0.186936  0.836627  0.475935   \n",
      "20480  1.913168  1.714213  1.859339  1.761009  1.098424 -0.264683  0.762359   \n",
      "20481  1.632709  2.768875  2.568954  2.622857  1.869641  0.149470  0.048782   \n",
      "\n",
      "             7         8         9     ...           48        49        50  \\\n",
      "0     -0.690921 -0.355367  0.337226    ...    -0.502043  0.284182 -0.494944   \n",
      "1      0.133503  0.290296  0.681135    ...    -0.759662  0.640425 -0.494944   \n",
      "2      0.305258 -0.355367  0.178919    ...    -0.244425  0.090793 -0.494944   \n",
      "3      1.374173  0.033483 -0.746802    ...     0.013194 -0.021169  1.907829   \n",
      "4      1.570247 -0.887868  1.777068    ...    -1.274900  0.681138 -0.494944   \n",
      "5     -2.351219 -0.312024 -0.150888    ...     1.816525 -1.670065 -0.494944   \n",
      "6     -1.861036  4.102782  2.010759    ...    -1.274900  0.375787 -0.494944   \n",
      "7     -1.861036  2.951094  2.010759    ...    -1.274900  0.375787 -0.494944   \n",
      "8      2.188632  0.080732  0.597824    ...    -0.759662  0.732030 -0.494944   \n",
      "9     -0.390486 -0.273634 -1.073970    ...     1.043669 -0.865974 -0.494944   \n",
      "10    -0.996766 -0.170588 -0.258509    ...     0.013194 -0.041526 -0.494944   \n",
      "11    -0.267940 -0.647933 -0.881174    ...     0.270813 -0.041526  1.944795   \n",
      "12    -0.826205  0.135855 -2.013930    ...     4.135094 -2.494512 -0.494944   \n",
      "13    -0.635578 -0.216050  1.309685    ...    -1.532518  1.800758 -0.494944   \n",
      "14    -0.063697  0.824899  0.698491    ...    -0.244425 -0.082239 -0.494944   \n",
      "15    -0.187347 -0.638854 -0.913544    ...     0.270813 -0.082239  1.907829   \n",
      "16    -1.152994 -0.120076 -1.806204    ...     2.074144 -1.466497 -0.494944   \n",
      "17     0.417886  0.324436  0.128927    ...     0.013194 -0.102596 -0.494944   \n",
      "18     1.990404 -0.010391  0.909070    ...    -0.759662  0.681138 -0.494944   \n",
      "19     0.661614 -0.869141  0.796703    ...    -0.502043  0.151863 -0.494944   \n",
      "20     0.317556  0.673310 -0.014568    ...    -0.502043  0.508106 -0.494944   \n",
      "21     1.236031 -0.556321  0.369607    ...    -0.759662  0.966132 -0.494944   \n",
      "22     1.344008 -0.415380  1.503828    ...    -2.047756  2.747346 -0.494944   \n",
      "23    -0.049489 -0.854486 -0.641132    ...    -0.502043  0.752387  2.092658   \n",
      "24     0.531058  0.279176  0.945126    ...    -1.532518  2.268963 -0.494944   \n",
      "25    -0.532933 -0.277571 -0.475959    ...    -0.244425  0.416501  2.055692   \n",
      "26     1.140261 -0.524177  0.645508    ...    -0.759662  0.558998 -0.494944   \n",
      "27     1.080063 -0.232986  0.113733    ...     0.786050 -0.957579 -0.494944   \n",
      "28     0.301537 -0.571718 -0.752300    ...     0.013194  0.162041  1.907829   \n",
      "29     0.393807  2.214013  1.926630    ...    -1.790137  1.688796 -0.494944   \n",
      "...         ...       ...       ...    ...          ...       ...       ...   \n",
      "20452  0.160569 -0.707211 -0.688150    ...    -0.244425  0.620068  2.129624   \n",
      "20453  0.816119 -0.415380  1.201827    ...     0.786050 -1.456319 -0.494944   \n",
      "20454  0.698810 -0.535963 -0.014568    ...    -0.244425  0.121328 -0.494944   \n",
      "20455  0.009503  0.021198 -2.470511    ...     1.558907 -1.069541  1.316377   \n",
      "20456  1.508974  0.359795  2.098394    ...    -1.790137  1.139164 -0.494944   \n",
      "20457 -1.295440  0.824899  0.195155    ...     0.528432 -0.662406 -0.494944   \n",
      "20458 -1.861036 -0.503972  2.010759    ...    -1.274900  0.375787 -0.494944   \n",
      "20459 -0.499416 -0.120076 -0.871437    ...     1.043669 -0.855795 -0.494944   \n",
      "20460 -0.978706  1.031613  0.421656    ...     0.528432 -0.865974 -0.494944   \n",
      "20461 -0.880670 -0.120076  1.075993    ...    -1.017281  0.650603 -0.494944   \n",
      "20462 -1.493399 -0.647933  0.871513    ...     1.043669 -1.456319 -0.494944   \n",
      "20463  1.028850 -1.174358 -0.218031    ...     0.013194 -0.204380 -0.494944   \n",
      "20464  0.083885  0.424809  0.812148    ...    -1.017281  0.986489 -0.494944   \n",
      "20465 -0.137488  2.505279  0.812148    ...    -0.244425 -0.357055 -0.494944   \n",
      "20466 -1.493399  1.165976  0.748825    ...    -0.502043  0.029723 -0.494944   \n",
      "20467  0.070863  0.241238  2.134479    ...    -2.047756  1.515764 -0.494944   \n",
      "20468 -1.861036  5.254470  2.010759    ...    -1.274900  0.375787 -0.494944   \n",
      "20469 -0.362070 -0.253605  1.147117    ...    -1.532518  1.892364 -0.494944   \n",
      "20470 -0.583589  0.298720 -1.303413    ...     1.301288 -1.100076 -0.494944   \n",
      "20471 -0.292450  0.359795  0.258072    ...     0.270813 -0.550444 -0.494944   \n",
      "20472  0.171783 -0.232986 -0.607961    ...     0.528432 -0.540266 -0.494944   \n",
      "20473 -1.044064 -0.631937 -0.248260    ...     0.270813 -0.326520 -0.494944   \n",
      "20474 -0.978706  0.762885 -0.478056    ...     1.301288 -1.191681 -0.494944   \n",
      "20475  0.464192  0.824899 -0.056513    ...     0.786050 -0.896509 -0.494944   \n",
      "20476  1.305066 -0.466211 -0.586665    ...    -0.244425  0.365609  2.055692   \n",
      "20477 -0.009873 -1.086591 -0.174945    ...    -0.244425  0.223112 -0.494944   \n",
      "20478 -0.063697  0.298720  0.629854    ...     0.013194 -0.469017 -0.494944   \n",
      "20479  0.930877 -0.954632  2.285093    ...    -2.820612  3.704113 -0.494944   \n",
      "20480  0.569021 -0.169084 -0.281407    ...    -0.759662  0.945776  2.277487   \n",
      "20481  0.171237 -0.609803 -1.267239    ...     0.013194  0.335074  2.129624   \n",
      "\n",
      "             51        52        53        54        55        56        57  \n",
      "0     -0.506420  0.373498  0.269242  0.420647  0.356590  0.073169 -0.848651  \n",
      "1     -0.506420  0.599448  0.322726  0.626996  0.650979  0.387375 -0.833334  \n",
      "2     -0.506420  0.223311  0.169915  0.317473  0.160331 -0.071907 -0.469155  \n",
      "3      1.859520  0.235045  0.781159  0.214298 -0.722835 -0.307185 -0.671407  \n",
      "4     -0.506420  0.037925 -1.121340  0.420647  1.730404  1.088700 -0.879390  \n",
      "5     -0.506420 -1.349286 -1.640898 -2.055543 -0.134057 -0.978443  2.878992  \n",
      "6     -0.506420 -0.192047 -1.640898 -0.507924  2.024793  1.133050 -0.761227  \n",
      "7     -0.506420 -0.192047 -1.640898 -0.507924  2.024793  1.133050 -0.761227  \n",
      "8     -0.506420  0.800925  0.544302  0.626996  0.552850  0.410677 -0.838023  \n",
      "9     -0.506420 -1.048243 -0.364925 -0.404749 -1.115353 -0.725124  0.897425  \n",
      "10    -0.506420 -0.339216  0.353288  0.214298 -0.232187 -0.235775 -0.200841  \n",
      "11     1.895919  0.213254  0.834643  0.214298 -0.919094 -0.340260 -0.511981  \n",
      "12    -0.506420 -1.579258 -2.236862 -4.738082 -1.998519 -1.394878  5.322268  \n",
      "13    -0.506420  1.647734  0.605427  0.936520  1.337886  1.496867 -1.027041  \n",
      "14    -0.506420 -0.247361 -0.502455  0.214298  0.650979 -0.026054 -0.454359  \n",
      "15     1.823121 -0.211491  0.781159  0.214298 -0.919094 -0.364314 -0.454463  \n",
      "16    -0.506420 -1.205134 -1.022013 -1.126972 -1.802260 -1.025799  1.325894  \n",
      "17    -0.506420  0.001385 -0.044021  0.214298  0.160331 -0.186915 -0.092682  \n",
      "18    -0.506420  0.472393  0.070587  0.626996  0.945368  0.501631 -0.782901  \n",
      "19    -0.506420 -0.059293 -0.357284  0.317473  0.749109  0.139318 -0.584713  \n",
      "20    -0.506420  0.985305  0.941611  0.523822 -0.035928  0.096471 -0.769668  \n",
      "21    -0.506420  1.429495  1.163188  0.730171  0.356590  0.465550 -0.855632  \n",
      "22    -0.506420  2.925658  1.109704  1.142869  1.534145  2.396638 -1.380591  \n",
      "23     2.114313  0.989664  2.087695  0.523822 -0.624705  0.082189 -0.706939  \n",
      "24     2.478304  3.183120  1.973087  1.039695  0.945368  1.553995 -1.220123  \n",
      "25     2.005116  0.347684  1.285437  0.420647 -0.428446 -0.049356 -0.119357  \n",
      "26    -0.506420  0.509604  0.261601  0.523822  0.650979  0.322730 -0.926488  \n",
      "27    -0.506420 -1.157195 -1.014372 -0.507924  0.160331 -0.614626  1.420508  \n",
      "28     1.932318  0.112348  1.102063  0.317473 -0.722835 -0.221493 -0.426433  \n",
      "29    -0.506420  0.901496 -0.777515  0.833346  1.926663  2.122271 -1.157603  \n",
      "...         ...       ...       ...       ...       ...       ...       ...  \n",
      "20452  1.968717  0.233369  1.881400  0.523822 -0.722835  0.007772 -0.391214  \n",
      "20453 -0.506420 -1.238658 -1.961802 -4.738082  1.239756 -0.649203  1.874923  \n",
      "20454 -0.506420 -0.401906  0.391491  0.317473 -0.035928 -0.099719 -0.538031  \n",
      "20455  1.349933 -1.173622 -0.257957 -0.714273 -2.489167 -0.920563  2.310165  \n",
      "20456 -0.506420  0.371151 -1.426963  0.317473  2.122922  1.953893 -1.010473  \n",
      "20457 -0.506420 -0.604054 -0.746953 -0.198400  0.160331 -0.456020  0.367777  \n",
      "20458 -0.506420 -0.192047 -1.640898 -0.507924  2.024793  1.133050 -0.761227  \n",
      "20459 -0.506420 -0.900403 -0.441330 -0.404749 -0.919094 -0.701070  1.798440  \n",
      "20460 -0.506420 -0.824975 -1.083137 -0.507924  0.454720 -0.513148  0.722577  \n",
      "20461 -0.506420  0.333604 -0.166270  0.626996  1.043497  0.567028  0.183865  \n",
      "20462 -0.506420 -1.230947 -1.808991 -2.674591  0.847238 -0.725876  1.431761  \n",
      "20463 -0.506420 -0.126006  0.093509  0.111123 -0.232187 -0.306434  0.032462  \n",
      "20464 -0.506420  0.974913  0.559583  0.730171  0.847238  0.650466 -1.011307  \n",
      "20465 -0.506420 -0.528290 -0.861561  0.007949  0.847238 -0.144821 -0.306500  \n",
      "20466 -0.506420 -0.154501 -0.426049  0.317473  0.749109  0.055880  0.129264  \n",
      "20467 -0.506420  0.680910 -1.327635  0.626996  2.122922  2.387617 -1.103419  \n",
      "20468 -0.506420 -0.192047 -1.640898 -0.507924  2.024793  1.133050 -0.761227  \n",
      "20469 -0.506420  2.030910  1.040939  0.936520  1.141627  1.435228 -1.255447  \n",
      "20470 -0.506420 -1.032487 -0.624704 -0.611099 -1.311612 -0.845394  0.854703  \n",
      "20471 -0.506420 -0.529966 -0.670547 -0.095226  0.258461 -0.390623 -0.391735  \n",
      "20472 -0.506420 -0.433418 -0.120427 -0.095226 -0.624705 -0.526678  0.248677  \n",
      "20473 -0.506420 -0.239986 -0.059302  0.111123 -0.232187 -0.373334  0.118219  \n",
      "20474 -0.506420 -0.690880 -1.029653 -0.817448 -0.428446 -0.804051  1.171262  \n",
      "20475 -0.506420 -1.277210 -0.869202 -0.404749 -0.035928 -0.612371  3.519091  \n",
      "20476  1.932318  0.369140  1.308358  0.420647 -0.624705 -0.095209 -0.326297  \n",
      "20477 -0.506420  0.403669  0.681832  0.420647 -0.134057 -0.084685 -0.266904  \n",
      "20478 -0.506420 -0.571536 -0.830999 -0.095226  0.650979 -0.260581 -0.102164  \n",
      "20479 -0.506420  2.933703 -0.785155  1.142869  2.319182  5.285376 -1.430502  \n",
      "20480  2.259909  1.236063  2.011290  0.626996 -0.232187  0.263346 -0.377876  \n",
      "20481  2.150712  0.936696  1.889041  0.317473 -1.311612 -0.222996 -0.387463  \n",
      "\n",
      "[20482 rows x 58 columns]\n"
     ]
    }
   ],
   "source": [
    "idk=np.argsort(kmeans.labels_)\n",
    "print(pd.DataFrame(X))"
   ]
  },
  {
   "cell_type": "code",
   "execution_count": 17,
   "metadata": {},
   "outputs": [
    {
     "name": "stderr",
     "output_type": "stream",
     "text": [
      "C:\\Users\\PICOS\\Anaconda3\\lib\\site-packages\\sklearn\\utils\\deprecation.py:58: DeprecationWarning: Class RandomizedPCA is deprecated; RandomizedPCA was deprecated in 0.18 and will be removed in 0.20. Use PCA(svd_solver='randomized') instead. The new implementation DOES NOT store whiten ``components_``. Apply transform to get them.\n",
      "  warnings.warn(msg, category=DeprecationWarning)\n"
     ]
    }
   ],
   "source": [
    "#reduction des dimensions pour affichage \n",
    "randomized_pca = RandomizedPCA(n_components=2)\n",
    "reduced_data_rpca = randomized_pca.fit_transform(X)\n",
    "pca = PCA(n_components=2)\n",
    "reduced_data_pca = pca.fit_transform(X)"
   ]
  },
  {
   "cell_type": "code",
   "execution_count": 20,
   "metadata": {},
   "outputs": [
    {
     "data": {
      "image/png": "[encoded data removed]",
      "text/plain": [
       "<matplotlib.figure.Figure at 0x2a7fb18a588>"
      ]
     },
     "metadata": {},
     "output_type": "display_data"
    }
   ],
   "source": [
    "plt.scatter(reduced_data_pca[:, 0], reduced_data_pca[:, 1], c=y_kmeans, cmap='viridis')\n",
    "centers = kmeans.cluster_centers_\n",
    "plt.scatter(centers[:, 0], centers[:, 1],marker='*', c='black')\n",
    "#centers = kmeans.cluster_centers_\n",
    "#plt.scatter(centers[:, 0], centers[:, 1], c='red', s=200, alpha=0.5)\n",
    "plt.show()"
   ]
  },
  {
   "cell_type": "code",
   "execution_count": null,
   "metadata": {
    "collapsed": true
   },
   "outputs": [],
   "source": []
  }
 ],
 "metadata": {
  "kernelspec": {
   "display_name": "Python 3",
   "language": "python",
   "name": "python3"
  },
  "language_info": {
   "codemirror_mode": {
    "name": "ipython",
    "version": 3
   },
   "file_extension": ".py",
   "mimetype": "text/x-python",
   "name": "python",
   "nbconvert_exporter": "python",
   "pygments_lexer": "ipython3",
   "version": "3.6.3"
  }
 },
 "nbformat": 4,
 "nbformat_minor": 2
}
