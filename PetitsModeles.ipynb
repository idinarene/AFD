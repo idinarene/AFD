{
 "cells": [
  {
   "cell_type": "code",
   "execution_count": 4,
   "metadata": {},
   "outputs": [],
   "source": [
    "from keras.models import Sequential\n",
    "from keras.layers import Dense\n",
    "from keras.utils import np_utils\n",
    "from sklearn.preprocessing import LabelEncoder\n",
    "import numpy as np\n",
    "import pandas as pd\n",
    "from sklearn.svm import SVC\n",
    "from keras.optimizers import SGD\n",
    "import matplotlib.pyplot as plt\n",
    "from keras import *\n",
    "from sklearn.model_selection import train_test_split\n",
    "from sklearn.preprocessing import StandardScaler\n",
    "from sklearn.neighbors import KNeighborsClassifier\n",
    "from sklearn.decomposition import *\n",
    "from sklearn.discriminant_analysis import LinearDiscriminantAnalysis\n",
    "# fix random seed for reproducibility\n",
    "np.random.seed(7)\n",
    "var_w=lambda shape: initializers.RandomUniform(-0.5,0.5)"
   ]
  },
  {
   "cell_type": "code",
   "execution_count": 5,
   "metadata": {},
   "outputs": [],
   "source": [
    "# load pima indians dataset\n",
    "dataset = pd.read_csv(\"/Users/malush/Documents/projet AFD 2018/AFD/train_cap2018.csv\", sep=\",\")\n",
    "# split into input (X) and output (Y) variables\n",
    "scaler = StandardScaler()\n",
    "X=dataset.iloc[:,1:59].astype(float)\n",
    "Y=dataset.iloc[:,59]\n",
    "\n",
    "\n",
    "X, X_test, Y, Y_test = train_test_split(X, Y)\n",
    "w = np.isnan(X)\n",
    "X[w] = 0#X.mean() à changer\n",
    "w2= np.isnan(X_test)\n",
    "X_test[w2] = 0\n",
    "\n",
    "#Normalisation \n",
    "\n",
    "scaler.fit(X)\n",
    "StandardScaler(copy=True, with_mean=True, with_std=True)\n",
    "\n",
    "# Now apply the transformations to the data:\n",
    "X = scaler.transform(X)\n",
    "X_test = scaler.transform(X_test)"
   ]
  },
  {
   "cell_type": "code",
   "execution_count": null,
   "metadata": {},
   "outputs": [],
   "source": [
    "Pour encoder Y\n",
    "encoder = LabelEncoder()\n",
    "encoder.fit(Y)\n",
    "#converti le Y de chaine de caractères à numérique\n",
    "Y_numerique = encoder.transform(Y)\n",
    "\n",
    "print(Y_numerique)\n",
    "# convert integers to dummy variables (i.e. one hot encoded)\n",
    "y_encode_binaire = np_utils.to_categorical(Y_numerique)#6\n",
    "\n",
    "#encoder Y_test\n",
    "#Pour encoder Y\n",
    "encoder = LabelEncoder()\n",
    "encoder.fit(Y_test)\n",
    "#converti le Y de chaine de caractères à numérique\n",
    "Y_test_numerique = encoder.transform(Y_test)\n",
    "\n",
    "print(Y_test_numerique)\n",
    "# convert integers to dummy variables (i.e. one hot encoded)\n",
    "y_test_encode_binaire = np_utils.to_categorical(Y_test_numerique)#6"
   ]
  },
  {
   "cell_type": "code",
   "execution_count": 7,
   "metadata": {},
   "outputs": [
    {
     "ename": "NameError",
     "evalue": "name 'Y_numerique' is not defined",
     "output_type": "error",
     "traceback": [
      "\u001b[0;31m---------------------------------------------------------------------------\u001b[0m",
      "\u001b[0;31mNameError\u001b[0m                                 Traceback (most recent call last)",
      "\u001b[0;32m<ipython-input-7-84aa19587d6e>\u001b[0m in \u001b[0;36m<module>\u001b[0;34m()\u001b[0m\n\u001b[1;32m      1\u001b[0m \u001b[0;34m\u001b[0m\u001b[0m\n\u001b[1;32m      2\u001b[0m \u001b[0mLDA\u001b[0m \u001b[0;34m=\u001b[0m \u001b[0mLinearDiscriminantAnalysis\u001b[0m\u001b[0;34m(\u001b[0m\u001b[0;34m)\u001b[0m\u001b[0;34m\u001b[0m\u001b[0m\n\u001b[0;32m----> 3\u001b[0;31m \u001b[0mLDA\u001b[0m\u001b[0;34m.\u001b[0m\u001b[0mfit\u001b[0m\u001b[0;34m(\u001b[0m\u001b[0mX\u001b[0m\u001b[0;34m,\u001b[0m \u001b[0mY_numerique\u001b[0m\u001b[0;34m)\u001b[0m\u001b[0;34m\u001b[0m\u001b[0m\n\u001b[0m\u001b[1;32m      4\u001b[0m print('Accuracy of LDA classifier on training set: {:.2f}'\n\u001b[1;32m      5\u001b[0m      .format(lda.score(X_train, Y_numerique)))\n",
      "\u001b[0;31mNameError\u001b[0m: name 'Y_numerique' is not defined"
     ]
    }
   ],
   "source": [
    "\n",
    "LDA = LinearDiscriminantAnalysis()\n",
    "LDA.fit(X, Y_numerique)\n",
    "print('Accuracy of LDA classifier on training set: {:.2f}'\n",
    "     .format(lda.score(X_train, Y_numerique)))\n",
    "#print('Accuracy of LDA classifier on test set: {:.2f}'\n",
    "     #.format(lda.score(X_test, Y_test)))"
   ]
  },
  {
   "cell_type": "code",
   "execution_count": null,
   "metadata": {},
   "outputs": [],
   "source": []
  }
 ],
 "metadata": {
  "kernelspec": {
   "display_name": "Python 3",
   "language": "python",
   "name": "python3"
  },
  "language_info": {
   "codemirror_mode": {
    "name": "ipython",
    "version": 3
   },
   "file_extension": ".py",
   "mimetype": "text/x-python",
   "name": "python",
   "nbconvert_exporter": "python",
   "pygments_lexer": "ipython3",
   "version": "3.6.4"
  }
 },
 "nbformat": 4,
 "nbformat_minor": 2
}
