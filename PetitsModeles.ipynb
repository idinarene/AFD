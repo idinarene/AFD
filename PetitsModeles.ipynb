{
 "cells": [
  {
   "cell_type": "code",
   "execution_count": 31,
   "metadata": {},
   "outputs": [],
   "source": [
    "from keras.utils import np_utils\n",
    "from sklearn.preprocessing import LabelEncoder\n",
    "import numpy as np\n",
    "import pandas as pd\n",
    "from sklearn.svm import SVC\n",
    "import matplotlib.pyplot as plt\n",
    "from sklearn.model_selection import train_test_split\n",
    "from sklearn.preprocessing import StandardScaler\n",
    "from sklearn.neighbors import KNeighborsClassifier\n",
    "from sklearn.discriminant_analysis import LinearDiscriminantAnalysis\n",
    "import seaborn as sns\n",
    "from sklearn.metrics import confusion_matrix\n",
    "from pandas_ml import ConfusionMatrix\n",
    "np.random.seed(7)\n",
    "var_w=lambda shape: initializers.RandomUniform(-0.5,0.5)"
   ]
  },
  {
   "cell_type": "code",
   "execution_count": 34,
   "metadata": {},
   "outputs": [
    {
     "name": "stdout",
     "output_type": "stream",
     "text": [
      "Accuracy of K-NN classifier on training set: 0.82\n",
      "Accuracy of K-NN classifier on test set: 0.75\n"
     ]
    }
   ],
   "source": [
    "#Méthode PPV\n",
    "ppv = KNeighborsClassifier()\n",
    "ppv.fit(X, Y_numerique)\n",
    "print('Accuracy of K-NN classifier on training set: {:.2f}'\n",
    "     .format(ppv.score(X, Y_numerique)))\n",
    "print('Accuracy of K-NN classifier on test set: {:.2f}'\n",
    "     .format(ppv.score(X_test, Y_test_numerique)))"
   ]
  },
  {
   "cell_type": "code",
   "execution_count": 32,
   "metadata": {},
   "outputs": [],
   "source": [
    "# load pima indians dataset\n",
    "dataset = pd.read_csv(\"D:/Cours Dauphine/S2/AFD/projet/codeSource/train_cap2018.csv\", sep=\",\")\n",
    "# split into input (X) and output (Y) variables\n",
    "scaler = StandardScaler()\n",
    "X=dataset.iloc[:,1:59].astype(float)\n",
    "Y=dataset.iloc[:,59]\n",
    "\n",
    "\n",
    "X, X_test, Y, Y_test = train_test_split(X, Y,test_size=0.33)\n",
    "w = np.isnan(X)\n",
    "X[w] = 0#X.mean() à changer\n",
    "w2= np.isnan(X_test)\n",
    "X_test[w2] = 0\n",
    "\n",
    "#Normalisation \n",
    "\n",
    "scaler.fit(X)\n",
    "StandardScaler(copy=True, with_mean=True, with_std=True)\n",
    "\n",
    "# Now apply the transformations to the data:\n",
    "X = scaler.transform(X)\n",
    "X_test = scaler.transform(X_test)"
   ]
  },
  {
   "cell_type": "code",
   "execution_count": 33,
   "metadata": {},
   "outputs": [
    {
     "name": "stdout",
     "output_type": "stream",
     "text": [
      "[0 1 1 ..., 1 0 0]\n",
      "[0 0 0 ..., 0 0 1]\n"
     ]
    }
   ],
   "source": [
    "#Pour encoder Y\n",
    "encoder = LabelEncoder()\n",
    "encoder.fit(Y)\n",
    "#converti le Y de chaine de caractères à numérique\n",
    "Y_numerique = encoder.transform(Y)\n",
    "\n",
    "print(Y_numerique)\n",
    "# convert integers to dummy variables (i.e. one hot encoded)\n",
    "y_encode_binaire = np_utils.to_categorical(Y_numerique)#6\n",
    "\n",
    "#encoder Y_test\n",
    "#Pour encoder Y\n",
    "encoder = LabelEncoder()\n",
    "encoder.fit(Y_test)\n",
    "#converti le Y de chaine de caractères à numérique\n",
    "Y_test_numerique = encoder.transform(Y_test)\n",
    "\n",
    "print(Y_test_numerique)\n",
    "# convert integers to dummy variables (i.e. one hot encoded)\n",
    "y_test_encode_binaire = np_utils.to_categorical(Y_test_numerique)#6"
   ]
  },
  {
   "cell_type": "code",
   "execution_count": 103,
   "metadata": {},
   "outputs": [
    {
     "name": "stderr",
     "output_type": "stream",
     "text": [
      "/anaconda3/lib/python3.6/site-packages/sklearn/discriminant_analysis.py:442: UserWarning: The priors do not sum to 1. Renormalizing\n",
      "  UserWarning)\n",
      "/anaconda3/lib/python3.6/site-packages/sklearn/discriminant_analysis.py:388: UserWarning: Variables are collinear.\n",
      "  warnings.warn(\"Variables are collinear.\")\n",
      "/anaconda3/lib/python3.6/site-packages/sklearn/preprocessing/label.py:151: DeprecationWarning: The truth value of an empty array is ambiguous. Returning False, but in future this will result in an error. Use `array.size > 0` to check that an array is not empty.\n",
      "  if diff:\n"
     ]
    },
    {
     "name": "stdout",
     "output_type": "stream",
     "text": [
      "Accuracy of LDA classifier on training set: 0.73\n",
      "Accuracy of LDA classifier on test set: 0.73\n",
      "[0 0 0 ... 0 3 0]\n",
      "['A1' 'A1' 'A1' ... 'A1' 'B2' 'A1']\n"
     ]
    },
    {
     "data": {
      "image/png": "[encoded data removed]",
      "text/plain": [
       "<matplotlib.figure.Figure at 0x10b3fecc0>"
      ]
     },
     "metadata": {},
     "output_type": "display_data"
    },
    {
     "name": "stdout",
     "output_type": "stream",
     "text": [
      "4970\n",
      "Confusion Matrix:\n",
      "\n",
      "Predicted     0     1     2    3    4   5  __all__\n",
      "Actual                                            \n",
      "0          2401   401    56   28    8   1     2895\n",
      "1           322  1401   198   17    3   0     1941\n",
      "2            31   293   786  158   19   1     1288\n",
      "3             4    25   128  329   72  15      573\n",
      "4             1     5    14   37   52  12      121\n",
      "5             1     0     0    3    5   1       10\n",
      "__all__    2760  2125  1182  572  159  30     6828\n",
      "\n",
      "\n",
      "Overall Statistics:\n",
      "\n",
      "Accuracy: 0.7278851786760399\n",
      "95% CI: (0.7171598959823019, 0.7384155349336752)\n",
      "No Information Rate: ToDo\n",
      "P-Value [Acc > NIR]: 0.0\n",
      "Kappa: 0.6112876385143656\n",
      "Mcnemar's Test P-Value: ToDo\n",
      "\n",
      "\n",
      "Class Statistics:\n",
      "\n",
      "Classes                                        0         1          2  \\\n",
      "Population                                  6828      6828       6828   \n",
      "P: Condition positive                       2895      1941       1288   \n",
      "N: Condition negative                       3933      4887       5540   \n",
      "Test outcome positive                       2760      2125       1182   \n",
      "Test outcome negative                       4068      4703       5646   \n",
      "TP: True Positive                           2401      1401        786   \n",
      "TN: True Negative                           3574      4163       5144   \n",
      "FP: False Positive                           359       724        396   \n",
      "FN: False Negative                           494       540        502   \n",
      "TPR: (Sensitivity, hit rate, recall)    0.829361  0.721793   0.610248   \n",
      "TNR=SPC: (Specificity)                  0.908721  0.851852    0.92852   \n",
      "PPV: Pos Pred Value (Precision)         0.869928  0.659294   0.664975   \n",
      "NPV: Neg Pred Value                     0.878564   0.88518   0.911087   \n",
      "FPR: False-out                         0.0912789  0.148148  0.0714801   \n",
      "FDR: False Discovery Rate               0.130072  0.340706   0.335025   \n",
      "FNR: Miss Rate                          0.170639  0.278207   0.389752   \n",
      "ACC: Accuracy                           0.875073   0.81488   0.868483   \n",
      "F1 score                                 0.84916  0.689129   0.636437   \n",
      "MCC: Matthews correlation coefficient   0.743269  0.558869   0.557103   \n",
      "Informedness                            0.738082  0.573645   0.538768   \n",
      "Markedness                              0.748492  0.544474   0.576062   \n",
      "Prevalence                              0.423989  0.284271   0.188635   \n",
      "LR+: Positive likelihood ratio           9.08601    4.8721    8.53731   \n",
      "LR-: Negative likelihood ratio          0.187779  0.326591   0.419756   \n",
      "DOR: Diagnostic odds ratio               48.3866   14.9181    20.3388   \n",
      "FOR: False omission rate                0.121436   0.11482  0.0889125   \n",
      "\n",
      "Classes                                        3          4           5  \n",
      "Population                                  6828       6828        6828  \n",
      "P: Condition positive                        573        121          10  \n",
      "N: Condition negative                       6255       6707        6818  \n",
      "Test outcome positive                        572        159          30  \n",
      "Test outcome negative                       6256       6669        6798  \n",
      "TP: True Positive                            329         52           1  \n",
      "TN: True Negative                           6012       6600        6789  \n",
      "FP: False Positive                           243        107          29  \n",
      "FN: False Negative                           244         69           9  \n",
      "TPR: (Sensitivity, hit rate, recall)    0.574171   0.429752         0.1  \n",
      "TNR=SPC: (Specificity)                  0.961151   0.984047    0.995747  \n",
      "PPV: Pos Pred Value (Precision)         0.575175   0.327044   0.0333333  \n",
      "NPV: Neg Pred Value                     0.960997   0.989654    0.998676  \n",
      "FPR: False-out                         0.0388489  0.0159535  0.00425345  \n",
      "FDR: False Discovery Rate               0.424825   0.672956    0.966667  \n",
      "FNR: Miss Rate                          0.425829   0.570248         0.9  \n",
      "ACC: Accuracy                           0.928676   0.974224    0.994435  \n",
      "F1 score                                0.574672   0.371429        0.05  \n",
      "MCC: Matthews correlation coefficient   0.535747   0.362007   0.0553606  \n",
      "Informedness                            0.535322   0.413799   0.0957466  \n",
      "Markedness                              0.536172   0.316698   0.0320094  \n",
      "Prevalence                             0.0839192  0.0177211  0.00146456  \n",
      "LR+: Positive likelihood ratio           14.7796    26.9378     23.5103  \n",
      "LR-: Negative likelihood ratio          0.443041   0.579493    0.903844  \n",
      "DOR: Diagnostic odds ratio               33.3594    46.4852     26.0115  \n",
      "FOR: False omission rate               0.0390026  0.0103464  0.00132392  \n"
     ]
    }
   ],
   "source": [
    "\n",
    "LDA = LinearDiscriminantAnalysis()\n",
    "LDA.fit(X, Y_numerique)\n",
    "\n",
    "\n",
    "#print(LDA.score(X, Y_numerique))\n",
    "\n",
    "print('Accuracy of LDA classifier on training set: {:.2f}'\n",
    "     .format(LDA.score(X, Y_numerique)))\n",
    "print('Accuracy of LDA classifier on test set: {:.2f}'\n",
    "     .format(LDA.score(X_test, Y_test_numerique)))\n",
    "\n",
    "LinearDiscriminantAnalysis(n_components=None, priors=None, shrinkage=None,\n",
    "              solver='svd', store_covariance=False, tol=0.0001)\n",
    "pred=LDA.predict(X_test)\n",
    "print(pred)\n",
    "\n",
    "classes = encoder.inverse_transform(pred)\n",
    "\n",
    "\n",
    "\n",
    "print(classes)\n",
    "\n",
    "conf_mat = confusion_matrix(Y_test_numerique, pred)\n",
    "fig, ax = plt.subplots(figsize=(6,6))\n",
    "sns.heatmap(conf_mat, annot=True, fmt='d',\n",
    "            xticklabels=['A1','A2','B1','B2','C1','C2'], yticklabels=['A1','A2','B1','B2','C1','C2'])\n",
    "plt.ylabel('Actual')\n",
    "plt.xlabel('Predicted')\n",
    "plt.show()\n",
    "diagonal_sum = conf_mat.trace()\n",
    "sum_of_all_elements = conf_mat.sum()\n",
    "print(diagonal_sum)\n",
    "erreur=1-(diagonal_sum/sum_of_all_elements)\n",
    "print(erreur)\n",
    "cm = ConfusionMatrix(Y_test_numerique, pred)\n",
    "cm.print_stats()"
   ]
  },
  {
   "cell_type": "code",
   "execution_count": 34,
   "metadata": {},
   "outputs": [
    {
     "name": "stdout",
     "output_type": "stream",
     "text": [
      "Accuracy of K-NN classifier on training set: 0.82\n",
      "Accuracy of K-NN classifier on test set: 0.75\n"
     ]
    }
   ],
   "source": [
    "#Méthode PPV\n",
    "ppv = KNeighborsClassifier()\n",
    "ppv.fit(X, Y_numerique)\n",
    "print('Accuracy of K-NN classifier on training set: {:.2f}'\n",
    "     .format(ppv.score(X, Y_numerique)))\n",
    "print('Accuracy of K-NN classifier on test set: {:.2f}'\n",
    "     .format(ppv.score(X_test, Y_test_numerique)))"
   ]
  },
  {
   "cell_type": "code",
   "execution_count": 34,
   "metadata": {},
   "outputs": [
    {
     "name": "stdout",
     "output_type": "stream",
     "text": [
      "Accuracy of K-NN classifier on training set: 0.82\n",
      "Accuracy of K-NN classifier on test set: 0.75\n"
     ]
    }
   ],
   "source": [
    "#Méthode PPV\n",
    "ppv = KNeighborsClassifier()\n",
    "ppv.fit(X, Y_numerique)\n",
    "print('Accuracy of K-NN classifier on training set: {:.2f}'\n",
    "     .format(ppv.score(X, Y_numerique)))\n",
    "print('Accuracy of K-NN classifier on test set: {:.2f}'\n",
    "     .format(ppv.score(X_test, Y_test_numerique)))"
   ]
  },
  {
   "cell_type": "code",
   "execution_count": 34,
   "metadata": {},
   "outputs": [
    {
     "name": "stdout",
     "output_type": "stream",
     "text": [
      "Accuracy of K-NN classifier on training set: 0.82\n",
      "Accuracy of K-NN classifier on test set: 0.75\n"
     ]
    }
   ],
   "source": [
    "#Méthode PPV\n",
    "ppv = KNeighborsClassifier()\n",
    "ppv.fit(X, Y_numerique)\n",
    "print('Accuracy of K-NN classifier on training set: {:.2f}'\n",
    "     .format(ppv.score(X, Y_numerique)))\n",
    "print('Accuracy of K-NN classifier on test set: {:.2f}'\n",
    "     .format(ppv.score(X_test, Y_test_numerique)))"
   ]
  },
  {
   "cell_type": "code",
   "execution_count": 35,
   "metadata": {},
   "outputs": [
    {
     "data": {
      "image/png": "[encoded data removed]",
      "text/plain": [
       "<matplotlib.figure.Figure at 0x1d529128390>"
      ]
     },
     "metadata": {},
     "output_type": "display_data"
    }
   ],
   "source": [
    "#Matrice de confusion pour PPV\n",
    "predictions=ppv.predict(X_test)\n",
    "y_pred=encoder.inverse_transform(predictions)\n",
    "mat = confusion_matrix(Y_test, y_pred)\n",
    "fig, ax = plt.subplots(figsize=(6,6))\n",
    "sns.heatmap(mat, annot=True, fmt='d',\n",
    "            xticklabels=['A1','A2','B1','B2','C1','C2'], yticklabels=['A1','A2','B1','B2','C1','C2'])\n",
    "plt.ylabel('Actual')\n",
    "plt.xlabel('Predicted')\n",
    "plt.show()"
   ]
  },
  {
   "cell_type": "code",
   "execution_count": 36,
   "metadata": {},
   "outputs": [
    {
     "name": "stdout",
     "output_type": "stream",
     "text": [
      "0.251414623322\n"
     ]
    }
   ],
   "source": [
    "#Erreur sur le test data calculée à partir de la matrice de confusion \n",
    "diagonal_som = mat.trace()\n",
    "som_tout_elem =mat.sum()\n",
    "erreur=1-(diagonal_som/som_tout_elem)\n",
    "print(erreur)"
   ]
  },
  {
   "cell_type": "code",
   "execution_count": 40,
   "metadata": {},
   "outputs": [
    {
     "name": "stdout",
     "output_type": "stream",
     "text": [
      "Accuracy of SVM classifier on training set: 0.80\n",
      "Accuracy of SVM classifier on test set: 0.79\n"
     ]
    }
   ],
   "source": [
    "#Méthode SVM machine à vecteurs de support\n",
    "svm = SVC()\n",
    "svm.fit(X,Y_numerique)\n",
    "print('Accuracy of SVM classifier on training set: {:.2f}'\n",
    "     .format(svm.score(X, Y_numerique)))\n",
    "print('Accuracy of SVM classifier on test set: {:.2f}'\n",
    "     .format(svm.score(X_test, Y_test_numerique)))"
   ]
  },
  {
   "cell_type": "code",
   "execution_count": 41,
   "metadata": {},
   "outputs": [
    {
     "data": {
      "image/png": "[encoded data removed]",
      "text/plain": [
       "<matplotlib.figure.Figure at 0x1d5289f2208>"
      ]
     },
     "metadata": {},
     "output_type": "display_data"
    }
   ],
   "source": [
    "#Prédictions pour SVM\n",
    "predictions=svm.predict(X_test)\n",
    "y_pred=encoder.inverse_transform(predictions)\n",
    "mat = confusion_matrix(Y_test, y_pred)\n",
    "fig, ax = plt.subplots(figsize=(6,6))\n",
    "sns.heatmap(mat, annot=True, fmt='d',\n",
    "            xticklabels=['A1','A2','B1','B2','C1','C2'], yticklabels=['A1','A2','B1','B2','C1','C2'])\n",
    "plt.ylabel('Actual')\n",
    "plt.xlabel('Predicted')\n",
    "plt.show()"
   ]
  },
  {
   "cell_type": "code",
   "execution_count": 42,
   "metadata": {},
   "outputs": [
    {
     "name": "stdout",
     "output_type": "stream",
     "text": [
      "0.212803727949\n"
     ]
    }
   ],
   "source": [
    "#Erreur sur le test data calculée à partir de la matrice de confusion \n",
    "diagonal_som = mat.trace()\n",
    "som_tout_elem =mat.sum()\n",
    "erreur=1-(diagonal_som/som_tout_elem)\n",
    "print(erreur)"
   ]
  },
  {
   "cell_type": "code",
   "execution_count": 37,
   "metadata": {},
   "outputs": [
    {
     "name": "stdout",
     "output_type": "stream",
     "text": [
      "Accuracy of Decision Tree classifier on training set: 1.00\n",
      "Accuracy of Decision Tree classifier on test set: 0.73\n"
     ]
    }
   ],
   "source": [
    "# Méthode arbre de décision\n",
    "from sklearn.tree import DecisionTreeClassifier\n",
    "arb = DecisionTreeClassifier().fit(X,Y_numerique)\n",
    "print('Accuracy of Decision Tree classifier on training set: {:.2f}'\n",
    "     .format(arb.score(X,Y_numerique)))\n",
    "print('Accuracy of Decision Tree classifier on test set: {:.2f}'\n",
    "     .format(arb.score(X_test,Y_test_numerique)))"
   ]
  },
  {
   "cell_type": "code",
   "execution_count": 38,
   "metadata": {},
   "outputs": [
    {
     "data": {
      "image/png": "[encoded data removed]",
      "text/plain": [
       "<matplotlib.figure.Figure at 0x1d529159278>"
      ]
     },
     "metadata": {},
     "output_type": "display_data"
    }
   ],
   "source": [
    "#Prédictions pour la méthode arbre de décision\n",
    "predictions=arb.predict(X_test)\n",
    "y_pred=encoder.inverse_transform(predictions)\n",
    "mat = confusion_matrix(Y_test, y_pred)\n",
    "fig, ax = plt.subplots(figsize=(6,6))\n",
    "sns.heatmap(mat, annot=True, fmt='d',\n",
    "            xticklabels=['A1','A2','B1','B2','C1','C2'], yticklabels=['A1','A2','B1','B2','C1','C2'])\n",
    "plt.ylabel('Actual')\n",
    "plt.xlabel('Predicted')\n",
    "plt.show()"
   ]
  },
  {
   "cell_type": "code",
   "execution_count": 39,
   "metadata": {},
   "outputs": [
    {
     "name": "stdout",
     "output_type": "stream",
     "text": [
      "0.269277709974\n"
     ]
    }
   ],
   "source": [
    "#Erreur sur le test data calculée à partir de la matrice de confusion \n",
    "diagonal_som = mat.trace()\n",
    "som_tout_elem =mat.sum()\n",
    "erreur=1-(diagonal_som/som_tout_elem)\n",
    "print(erreur)"
   ]
  },
  {
   "cell_type": "code",
   "execution_count": null,
   "metadata": {
    "collapsed": true
   },
   "outputs": [],
   "source": []
  }
 ],
 "metadata": {
  "kernelspec": {
   "display_name": "Python 3",
   "language": "python",
   "name": "python3"
  },
  "language_info": {
   "codemirror_mode": {
    "name": "ipython",
    "version": 3
   },
   "file_extension": ".py",
   "mimetype": "text/x-python",
   "name": "python",
   "nbconvert_exporter": "python",
   "pygments_lexer": "ipython3",
   "version": "3.6.3"
  }
 },
 "nbformat": 4,
 "nbformat_minor": 2
}
